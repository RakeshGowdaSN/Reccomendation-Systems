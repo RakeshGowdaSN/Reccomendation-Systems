{
 "cells": [
  {
   "cell_type": "markdown",
   "metadata": {},
   "source": [
    "# Recommendation Systems"
   ]
  },
  {
   "cell_type": "code",
   "execution_count": 226,
   "metadata": {},
   "outputs": [],
   "source": [
    "#importing the required libraries\n",
    "import pandas as pd\n",
    "import numpy as np\n",
    "\n",
    "#compare ensemble to each baseline classifier\n",
    "from numpy import mean\n",
    "from numpy import std\n",
    "\n",
    "import warnings\n",
    "warnings.filterwarnings(\"ignore\")\n",
    "\n",
    "#For visualization\n",
    "import seaborn as sns\n",
    "import matplotlib.pyplot as plt  \n",
    "sns.set(color_codes=True)        #adds color background (have to kill the kernel to see the changes of color)\n",
    "%matplotlib inline \n",
    "\n",
    "#For scientific computations\n",
    "from scipy import stats\n",
    "\n",
    "from surprise.model_selection import RandomizedSearchCV\n",
    "from surprise.model_selection import GridSearchCV\n",
    "\n",
    "from surprise import accuracy\n",
    "from surprise.model_selection.validation import cross_validate\n",
    "from surprise.dataset import Dataset\n",
    "from surprise.reader import Reader\n",
    "from surprise import SVD, SVDpp\n",
    "from surprise import KNNBasic\n",
    "from surprise import KNNWithMeans\n",
    "\n",
    "import requests\n",
    "from io import StringIO\n",
    "\n",
    "#setting up for customized printing\n",
    "from IPython.display import Markdown, display\n",
    "from IPython.display import HTML\n",
    "def printmd(string, color=None):\n",
    "    colorstr = \"<span style='color:{}'>{}</span>\".format(color, string)\n",
    "    display(Markdown(colorstr))\n",
    "    \n",
    "import math\n",
    "import re\n",
    "from scipy.sparse import csr_matrix"
   ]
  },
  {
   "cell_type": "code",
   "execution_count": 227,
   "metadata": {},
   "outputs": [],
   "source": [
    "# importing all 6 input files\n",
    "df1 = pd.read_csv('C:\\\\Users\\\\Rakesh Gowda S N\\\\Documents\\\\Projects\\\\Project 6 - RS\\\\phone_user_review_file_1.csv',encoding='latin')\n",
    "df2 = pd.read_csv('C:\\\\Users\\\\Rakesh Gowda S N\\\\Documents\\\\Projects\\\\Project 6 - RS\\\\phone_user_review_file_2.csv',encoding='latin')\n",
    "df3 = pd.read_csv('C:\\\\Users\\\\Rakesh Gowda S N\\\\Documents\\\\Projects\\\\Project 6 - RS\\\\phone_user_review_file_3.csv',encoding='latin')\n",
    "df4 = pd.read_csv('C:\\\\Users\\\\Rakesh Gowda S N\\\\Documents\\\\Projects\\\\Project 6 - RS\\\\phone_user_review_file_4.csv',encoding='latin')\n",
    "df5 = pd.read_csv('C:\\\\Users\\\\Rakesh Gowda S N\\\\Documents\\\\Projects\\\\Project 6 - RS\\\\phone_user_review_file_5.csv',encoding='latin')\n",
    "df6 = pd.read_csv('C:\\\\Users\\\\Rakesh Gowda S N\\\\Documents\\\\Projects\\\\Project 6 - RS\\\\phone_user_review_file_6.csv',encoding='latin')"
   ]
  },
  {
   "cell_type": "code",
   "execution_count": 228,
   "metadata": {},
   "outputs": [
    {
     "name": "stdout",
     "output_type": "stream",
     "text": [
      "Shape of data file is: (1415133, 11)\n"
     ]
    }
   ],
   "source": [
    "# Merging all 6 datasets\n",
    "df = pd.concat([df1,df2,df3,df4,df5,df6], axis=0)\n",
    "print('Shape of data file is: {}'.format(df.shape))"
   ]
  },
  {
   "cell_type": "code",
   "execution_count": 229,
   "metadata": {},
   "outputs": [
    {
     "data": {
      "text/html": [
       "<div>\n",
       "<style scoped>\n",
       "    .dataframe tbody tr th:only-of-type {\n",
       "        vertical-align: middle;\n",
       "    }\n",
       "\n",
       "    .dataframe tbody tr th {\n",
       "        vertical-align: top;\n",
       "    }\n",
       "\n",
       "    .dataframe thead th {\n",
       "        text-align: right;\n",
       "    }\n",
       "</style>\n",
       "<table border=\"1\" class=\"dataframe\">\n",
       "  <thead>\n",
       "    <tr style=\"text-align: right;\">\n",
       "      <th></th>\n",
       "      <th>phone_url</th>\n",
       "      <th>date</th>\n",
       "      <th>lang</th>\n",
       "      <th>country</th>\n",
       "      <th>source</th>\n",
       "      <th>domain</th>\n",
       "      <th>score</th>\n",
       "      <th>score_max</th>\n",
       "      <th>extract</th>\n",
       "      <th>author</th>\n",
       "      <th>product</th>\n",
       "    </tr>\n",
       "  </thead>\n",
       "  <tbody>\n",
       "    <tr>\n",
       "      <th>0</th>\n",
       "      <td>/cellphones/samsung-galaxy-s8/</td>\n",
       "      <td>5/2/2017</td>\n",
       "      <td>en</td>\n",
       "      <td>us</td>\n",
       "      <td>Verizon Wireless</td>\n",
       "      <td>verizonwireless.com</td>\n",
       "      <td>10.0</td>\n",
       "      <td>10.0</td>\n",
       "      <td>As a diehard Samsung fan who has had every Sam...</td>\n",
       "      <td>CarolAnn35</td>\n",
       "      <td>Samsung Galaxy S8</td>\n",
       "    </tr>\n",
       "    <tr>\n",
       "      <th>1</th>\n",
       "      <td>/cellphones/samsung-galaxy-s8/</td>\n",
       "      <td>4/28/2017</td>\n",
       "      <td>en</td>\n",
       "      <td>us</td>\n",
       "      <td>Phone Arena</td>\n",
       "      <td>phonearena.com</td>\n",
       "      <td>10.0</td>\n",
       "      <td>10.0</td>\n",
       "      <td>Love the phone. the phone is sleek and smooth ...</td>\n",
       "      <td>james0923</td>\n",
       "      <td>Samsung Galaxy S8</td>\n",
       "    </tr>\n",
       "    <tr>\n",
       "      <th>2</th>\n",
       "      <td>/cellphones/samsung-galaxy-s8/</td>\n",
       "      <td>5/4/2017</td>\n",
       "      <td>en</td>\n",
       "      <td>us</td>\n",
       "      <td>Amazon</td>\n",
       "      <td>amazon.com</td>\n",
       "      <td>6.0</td>\n",
       "      <td>10.0</td>\n",
       "      <td>Adequate feel. Nice heft. Processor's still sl...</td>\n",
       "      <td>R. Craig</td>\n",
       "      <td>Samsung Galaxy S8 (64GB) G950U 5.8\" 4G LTE Unl...</td>\n",
       "    </tr>\n",
       "    <tr>\n",
       "      <th>3</th>\n",
       "      <td>/cellphones/samsung-galaxy-s8/</td>\n",
       "      <td>5/2/2017</td>\n",
       "      <td>en</td>\n",
       "      <td>us</td>\n",
       "      <td>Samsung</td>\n",
       "      <td>samsung.com</td>\n",
       "      <td>9.2</td>\n",
       "      <td>10.0</td>\n",
       "      <td>Never disappointed. One of the reasons I've be...</td>\n",
       "      <td>Buster2020</td>\n",
       "      <td>Samsung Galaxy S8 64GB (AT&amp;T)</td>\n",
       "    </tr>\n",
       "    <tr>\n",
       "      <th>4</th>\n",
       "      <td>/cellphones/samsung-galaxy-s8/</td>\n",
       "      <td>5/11/2017</td>\n",
       "      <td>en</td>\n",
       "      <td>us</td>\n",
       "      <td>Verizon Wireless</td>\n",
       "      <td>verizonwireless.com</td>\n",
       "      <td>4.0</td>\n",
       "      <td>10.0</td>\n",
       "      <td>I've now found that i'm in a group of people t...</td>\n",
       "      <td>S Ate Mine</td>\n",
       "      <td>Samsung Galaxy S8</td>\n",
       "    </tr>\n",
       "  </tbody>\n",
       "</table>\n",
       "</div>"
      ],
      "text/plain": [
       "                        phone_url       date lang country            source  \\\n",
       "0  /cellphones/samsung-galaxy-s8/   5/2/2017   en      us  Verizon Wireless   \n",
       "1  /cellphones/samsung-galaxy-s8/  4/28/2017   en      us       Phone Arena   \n",
       "2  /cellphones/samsung-galaxy-s8/   5/4/2017   en      us            Amazon   \n",
       "3  /cellphones/samsung-galaxy-s8/   5/2/2017   en      us           Samsung   \n",
       "4  /cellphones/samsung-galaxy-s8/  5/11/2017   en      us  Verizon Wireless   \n",
       "\n",
       "                domain  score  score_max  \\\n",
       "0  verizonwireless.com   10.0       10.0   \n",
       "1       phonearena.com   10.0       10.0   \n",
       "2           amazon.com    6.0       10.0   \n",
       "3          samsung.com    9.2       10.0   \n",
       "4  verizonwireless.com    4.0       10.0   \n",
       "\n",
       "                                             extract       author  \\\n",
       "0  As a diehard Samsung fan who has had every Sam...   CarolAnn35   \n",
       "1  Love the phone. the phone is sleek and smooth ...    james0923   \n",
       "2  Adequate feel. Nice heft. Processor's still sl...     R. Craig   \n",
       "3  Never disappointed. One of the reasons I've be...  Buster2020    \n",
       "4  I've now found that i'm in a group of people t...   S Ate Mine   \n",
       "\n",
       "                                             product  \n",
       "0                                  Samsung Galaxy S8  \n",
       "1                                  Samsung Galaxy S8  \n",
       "2  Samsung Galaxy S8 (64GB) G950U 5.8\" 4G LTE Unl...  \n",
       "3                      Samsung Galaxy S8 64GB (AT&T)  \n",
       "4                                  Samsung Galaxy S8  "
      ]
     },
     "execution_count": 229,
     "metadata": {},
     "output_type": "execute_result"
    }
   ],
   "source": [
    "df.head()"
   ]
  },
  {
   "cell_type": "code",
   "execution_count": 230,
   "metadata": {},
   "outputs": [
    {
     "data": {
      "text/plain": [
       "phone_url     object\n",
       "date          object\n",
       "lang          object\n",
       "country       object\n",
       "source        object\n",
       "domain        object\n",
       "score        float64\n",
       "score_max    float64\n",
       "extract       object\n",
       "author        object\n",
       "product       object\n",
       "dtype: object"
      ]
     },
     "execution_count": 230,
     "metadata": {},
     "output_type": "execute_result"
    }
   ],
   "source": [
    "df.dtypes"
   ]
  },
  {
   "cell_type": "markdown",
   "metadata": {},
   "source": [
    "All features are of 'object' datatype except for score and score_max which are 'float64' datatype."
   ]
  },
  {
   "cell_type": "code",
   "execution_count": 231,
   "metadata": {},
   "outputs": [
    {
     "data": {
      "text/html": [
       "<div>\n",
       "<style scoped>\n",
       "    .dataframe tbody tr th:only-of-type {\n",
       "        vertical-align: middle;\n",
       "    }\n",
       "\n",
       "    .dataframe tbody tr th {\n",
       "        vertical-align: top;\n",
       "    }\n",
       "\n",
       "    .dataframe thead th {\n",
       "        text-align: right;\n",
       "    }\n",
       "</style>\n",
       "<table border=\"1\" class=\"dataframe\">\n",
       "  <thead>\n",
       "    <tr style=\"text-align: right;\">\n",
       "      <th></th>\n",
       "      <th>count</th>\n",
       "      <th>mean</th>\n",
       "      <th>std</th>\n",
       "      <th>min</th>\n",
       "      <th>25%</th>\n",
       "      <th>50%</th>\n",
       "      <th>75%</th>\n",
       "      <th>max</th>\n",
       "    </tr>\n",
       "  </thead>\n",
       "  <tbody>\n",
       "    <tr>\n",
       "      <th>score</th>\n",
       "      <td>1351644.0</td>\n",
       "      <td>8.00706</td>\n",
       "      <td>2.616121</td>\n",
       "      <td>0.2</td>\n",
       "      <td>7.2</td>\n",
       "      <td>9.2</td>\n",
       "      <td>10.0</td>\n",
       "      <td>10.0</td>\n",
       "    </tr>\n",
       "    <tr>\n",
       "      <th>score_max</th>\n",
       "      <td>1351644.0</td>\n",
       "      <td>10.00000</td>\n",
       "      <td>0.000000</td>\n",
       "      <td>10.0</td>\n",
       "      <td>10.0</td>\n",
       "      <td>10.0</td>\n",
       "      <td>10.0</td>\n",
       "      <td>10.0</td>\n",
       "    </tr>\n",
       "  </tbody>\n",
       "</table>\n",
       "</div>"
      ],
      "text/plain": [
       "               count      mean       std   min   25%   50%   75%   max\n",
       "score      1351644.0   8.00706  2.616121   0.2   7.2   9.2  10.0  10.0\n",
       "score_max  1351644.0  10.00000  0.000000  10.0  10.0  10.0  10.0  10.0"
      ]
     },
     "execution_count": 231,
     "metadata": {},
     "output_type": "execute_result"
    }
   ],
   "source": [
    "df.describe().T"
   ]
  },
  {
   "cell_type": "markdown",
   "metadata": {},
   "source": [
    "We can observe that min, max and mean values in 'score_max' column are all the same and standard deviation is 0. Hence, we can drop this feature as it is not useful in our analysis. Feature 'score' has minimum value of 0.2 and maximum of 10 with standard deviation of 2.6. Also, we can observe that the mean is around 8."
   ]
  },
  {
   "cell_type": "code",
   "execution_count": 232,
   "metadata": {},
   "outputs": [
    {
     "data": {
      "text/plain": [
       "phone_url        0\n",
       "date             0\n",
       "lang             0\n",
       "country          0\n",
       "source           0\n",
       "domain           0\n",
       "score        63489\n",
       "score_max    63489\n",
       "extract      19361\n",
       "author       63202\n",
       "product          1\n",
       "dtype: int64"
      ]
     },
     "execution_count": 232,
     "metadata": {},
     "output_type": "execute_result"
    }
   ],
   "source": [
    "# Let's check for missing values and impute if neccessary\n",
    "df.isnull().sum()"
   ]
  },
  {
   "cell_type": "markdown",
   "metadata": {},
   "source": [
    "Missing values are found in 'score', 'score_max', 'extract', 'author' and one in 'product' column. Since few columns are not important, first we will remove these features and then we will impute missing values in remaining columns."
   ]
  },
  {
   "cell_type": "code",
   "execution_count": 233,
   "metadata": {},
   "outputs": [
    {
     "data": {
      "text/html": [
       "<div>\n",
       "<style scoped>\n",
       "    .dataframe tbody tr th:only-of-type {\n",
       "        vertical-align: middle;\n",
       "    }\n",
       "\n",
       "    .dataframe tbody tr th {\n",
       "        vertical-align: top;\n",
       "    }\n",
       "\n",
       "    .dataframe thead th {\n",
       "        text-align: right;\n",
       "    }\n",
       "</style>\n",
       "<table border=\"1\" class=\"dataframe\">\n",
       "  <thead>\n",
       "    <tr style=\"text-align: right;\">\n",
       "      <th></th>\n",
       "      <th>date</th>\n",
       "      <th>lang</th>\n",
       "      <th>country</th>\n",
       "      <th>source</th>\n",
       "      <th>score</th>\n",
       "      <th>author</th>\n",
       "      <th>product</th>\n",
       "    </tr>\n",
       "  </thead>\n",
       "  <tbody>\n",
       "    <tr>\n",
       "      <th>0</th>\n",
       "      <td>5/2/2017</td>\n",
       "      <td>en</td>\n",
       "      <td>us</td>\n",
       "      <td>Verizon Wireless</td>\n",
       "      <td>10.0</td>\n",
       "      <td>CarolAnn35</td>\n",
       "      <td>Samsung Galaxy S8</td>\n",
       "    </tr>\n",
       "    <tr>\n",
       "      <th>1</th>\n",
       "      <td>4/28/2017</td>\n",
       "      <td>en</td>\n",
       "      <td>us</td>\n",
       "      <td>Phone Arena</td>\n",
       "      <td>10.0</td>\n",
       "      <td>james0923</td>\n",
       "      <td>Samsung Galaxy S8</td>\n",
       "    </tr>\n",
       "    <tr>\n",
       "      <th>2</th>\n",
       "      <td>5/4/2017</td>\n",
       "      <td>en</td>\n",
       "      <td>us</td>\n",
       "      <td>Amazon</td>\n",
       "      <td>6.0</td>\n",
       "      <td>R. Craig</td>\n",
       "      <td>Samsung Galaxy S8 (64GB) G950U 5.8\" 4G LTE Unl...</td>\n",
       "    </tr>\n",
       "    <tr>\n",
       "      <th>3</th>\n",
       "      <td>5/2/2017</td>\n",
       "      <td>en</td>\n",
       "      <td>us</td>\n",
       "      <td>Samsung</td>\n",
       "      <td>9.2</td>\n",
       "      <td>Buster2020</td>\n",
       "      <td>Samsung Galaxy S8 64GB (AT&amp;T)</td>\n",
       "    </tr>\n",
       "    <tr>\n",
       "      <th>4</th>\n",
       "      <td>5/11/2017</td>\n",
       "      <td>en</td>\n",
       "      <td>us</td>\n",
       "      <td>Verizon Wireless</td>\n",
       "      <td>4.0</td>\n",
       "      <td>S Ate Mine</td>\n",
       "      <td>Samsung Galaxy S8</td>\n",
       "    </tr>\n",
       "  </tbody>\n",
       "</table>\n",
       "</div>"
      ],
      "text/plain": [
       "        date lang country            source  score       author  \\\n",
       "0   5/2/2017   en      us  Verizon Wireless   10.0   CarolAnn35   \n",
       "1  4/28/2017   en      us       Phone Arena   10.0    james0923   \n",
       "2   5/4/2017   en      us            Amazon    6.0     R. Craig   \n",
       "3   5/2/2017   en      us           Samsung    9.2  Buster2020    \n",
       "4  5/11/2017   en      us  Verizon Wireless    4.0   S Ate Mine   \n",
       "\n",
       "                                             product  \n",
       "0                                  Samsung Galaxy S8  \n",
       "1                                  Samsung Galaxy S8  \n",
       "2  Samsung Galaxy S8 (64GB) G950U 5.8\" 4G LTE Unl...  \n",
       "3                      Samsung Galaxy S8 64GB (AT&T)  \n",
       "4                                  Samsung Galaxy S8  "
      ]
     },
     "execution_count": 233,
     "metadata": {},
     "output_type": "execute_result"
    }
   ],
   "source": [
    "# Lets drop 'phone_url', 'domain', 'score_max', 'extract' columns as they are not useful for our analysis\n",
    "df.drop(['phone_url', 'domain', 'score_max', 'extract'], axis = 1, inplace = True)\n",
    "df.head()"
   ]
  },
  {
   "cell_type": "code",
   "execution_count": 234,
   "metadata": {},
   "outputs": [],
   "source": [
    "# Imputing score column with mean value\n",
    "df['score'].fillna(df['score'].mean(), inplace=True)"
   ]
  },
  {
   "cell_type": "code",
   "execution_count": 235,
   "metadata": {},
   "outputs": [],
   "source": [
    "# Dropping null values from column 'author' and 'product'\n",
    "df = df.dropna(axis = 0, how ='any')"
   ]
  },
  {
   "cell_type": "code",
   "execution_count": 236,
   "metadata": {},
   "outputs": [
    {
     "data": {
      "text/plain": [
       "date       0\n",
       "lang       0\n",
       "country    0\n",
       "source     0\n",
       "score      0\n",
       "author     0\n",
       "product    0\n",
       "dtype: int64"
      ]
     },
     "execution_count": 236,
     "metadata": {},
     "output_type": "execute_result"
    }
   ],
   "source": [
    "df.isnull().sum()"
   ]
  },
  {
   "cell_type": "code",
   "execution_count": 237,
   "metadata": {},
   "outputs": [
    {
     "name": "stdout",
     "output_type": "stream",
     "text": [
      "Shape of data file after missing value treatment and removing unwanted features is: (1351931, 7)\n"
     ]
    }
   ],
   "source": [
    "print('Shape of data file after missing value treatment and removing unwanted features is: {}'.format(df.shape))"
   ]
  },
  {
   "cell_type": "markdown",
   "metadata": {},
   "source": [
    "We have eliminated 4 columns and 63202 rows from the actual dataset."
   ]
  },
  {
   "cell_type": "code",
   "execution_count": 238,
   "metadata": {},
   "outputs": [
    {
     "data": {
      "text/html": [
       "<div>\n",
       "<style scoped>\n",
       "    .dataframe tbody tr th:only-of-type {\n",
       "        vertical-align: middle;\n",
       "    }\n",
       "\n",
       "    .dataframe tbody tr th {\n",
       "        vertical-align: top;\n",
       "    }\n",
       "\n",
       "    .dataframe thead th {\n",
       "        text-align: right;\n",
       "    }\n",
       "</style>\n",
       "<table border=\"1\" class=\"dataframe\">\n",
       "  <thead>\n",
       "    <tr style=\"text-align: right;\">\n",
       "      <th></th>\n",
       "      <th>date</th>\n",
       "      <th>lang</th>\n",
       "      <th>country</th>\n",
       "      <th>source</th>\n",
       "      <th>score</th>\n",
       "      <th>author</th>\n",
       "      <th>product</th>\n",
       "    </tr>\n",
       "  </thead>\n",
       "  <tbody>\n",
       "    <tr>\n",
       "      <th>0</th>\n",
       "      <td>5/2/2017</td>\n",
       "      <td>en</td>\n",
       "      <td>us</td>\n",
       "      <td>Verizon Wireless</td>\n",
       "      <td>10</td>\n",
       "      <td>CarolAnn35</td>\n",
       "      <td>Samsung Galaxy S8</td>\n",
       "    </tr>\n",
       "    <tr>\n",
       "      <th>1</th>\n",
       "      <td>4/28/2017</td>\n",
       "      <td>en</td>\n",
       "      <td>us</td>\n",
       "      <td>Phone Arena</td>\n",
       "      <td>10</td>\n",
       "      <td>james0923</td>\n",
       "      <td>Samsung Galaxy S8</td>\n",
       "    </tr>\n",
       "    <tr>\n",
       "      <th>2</th>\n",
       "      <td>5/4/2017</td>\n",
       "      <td>en</td>\n",
       "      <td>us</td>\n",
       "      <td>Amazon</td>\n",
       "      <td>6</td>\n",
       "      <td>R. Craig</td>\n",
       "      <td>Samsung Galaxy S8 (64GB) G950U 5.8\" 4G LTE Unl...</td>\n",
       "    </tr>\n",
       "    <tr>\n",
       "      <th>3</th>\n",
       "      <td>5/2/2017</td>\n",
       "      <td>en</td>\n",
       "      <td>us</td>\n",
       "      <td>Samsung</td>\n",
       "      <td>9</td>\n",
       "      <td>Buster2020</td>\n",
       "      <td>Samsung Galaxy S8 64GB (AT&amp;T)</td>\n",
       "    </tr>\n",
       "    <tr>\n",
       "      <th>4</th>\n",
       "      <td>5/11/2017</td>\n",
       "      <td>en</td>\n",
       "      <td>us</td>\n",
       "      <td>Verizon Wireless</td>\n",
       "      <td>4</td>\n",
       "      <td>S Ate Mine</td>\n",
       "      <td>Samsung Galaxy S8</td>\n",
       "    </tr>\n",
       "  </tbody>\n",
       "</table>\n",
       "</div>"
      ],
      "text/plain": [
       "        date lang country            source  score       author  \\\n",
       "0   5/2/2017   en      us  Verizon Wireless     10   CarolAnn35   \n",
       "1  4/28/2017   en      us       Phone Arena     10    james0923   \n",
       "2   5/4/2017   en      us            Amazon      6     R. Craig   \n",
       "3   5/2/2017   en      us           Samsung      9  Buster2020    \n",
       "4  5/11/2017   en      us  Verizon Wireless      4   S Ate Mine   \n",
       "\n",
       "                                             product  \n",
       "0                                  Samsung Galaxy S8  \n",
       "1                                  Samsung Galaxy S8  \n",
       "2  Samsung Galaxy S8 (64GB) G950U 5.8\" 4G LTE Unl...  \n",
       "3                      Samsung Galaxy S8 64GB (AT&T)  \n",
       "4                                  Samsung Galaxy S8  "
      ]
     },
     "execution_count": 238,
     "metadata": {},
     "output_type": "execute_result"
    }
   ],
   "source": [
    "# We will round off scores to the nearest integers.\n",
    "\n",
    "df['score'] = df['score'].round().astype(int)\n",
    "df.head()"
   ]
  },
  {
   "cell_type": "markdown",
   "metadata": {},
   "source": [
    "We can observe that values in 'score' column has been rounded off to nearest integers."
   ]
  },
  {
   "cell_type": "code",
   "execution_count": 239,
   "metadata": {},
   "outputs": [
    {
     "data": {
      "text/html": [
       "<div>\n",
       "<style scoped>\n",
       "    .dataframe tbody tr th:only-of-type {\n",
       "        vertical-align: middle;\n",
       "    }\n",
       "\n",
       "    .dataframe tbody tr th {\n",
       "        vertical-align: top;\n",
       "    }\n",
       "\n",
       "    .dataframe thead th {\n",
       "        text-align: right;\n",
       "    }\n",
       "</style>\n",
       "<table border=\"1\" class=\"dataframe\">\n",
       "  <thead>\n",
       "    <tr style=\"text-align: right;\">\n",
       "      <th></th>\n",
       "      <th>date</th>\n",
       "      <th>lang</th>\n",
       "      <th>country</th>\n",
       "      <th>source</th>\n",
       "      <th>score</th>\n",
       "      <th>author</th>\n",
       "      <th>product</th>\n",
       "    </tr>\n",
       "  </thead>\n",
       "  <tbody>\n",
       "    <tr>\n",
       "      <th>163832</th>\n",
       "      <td>5/12/2000</td>\n",
       "      <td>de</td>\n",
       "      <td>de</td>\n",
       "      <td>Ciao</td>\n",
       "      <td>2</td>\n",
       "      <td>david.paul</td>\n",
       "      <td>Alcatel Club Plus Handy</td>\n",
       "    </tr>\n",
       "    <tr>\n",
       "      <th>163833</th>\n",
       "      <td>5/11/2000</td>\n",
       "      <td>de</td>\n",
       "      <td>de</td>\n",
       "      <td>Ciao</td>\n",
       "      <td>10</td>\n",
       "      <td>Christiane14</td>\n",
       "      <td>Alcatel Club Plus Handy</td>\n",
       "    </tr>\n",
       "    <tr>\n",
       "      <th>163834</th>\n",
       "      <td>5/4/2000</td>\n",
       "      <td>de</td>\n",
       "      <td>de</td>\n",
       "      <td>Ciao</td>\n",
       "      <td>2</td>\n",
       "      <td>michaelawr</td>\n",
       "      <td>Alcatel Club Plus Handy</td>\n",
       "    </tr>\n",
       "    <tr>\n",
       "      <th>163835</th>\n",
       "      <td>5/1/2000</td>\n",
       "      <td>de</td>\n",
       "      <td>de</td>\n",
       "      <td>Ciao</td>\n",
       "      <td>8</td>\n",
       "      <td>claudia0815</td>\n",
       "      <td>Alcatel Club Plus Handy</td>\n",
       "    </tr>\n",
       "    <tr>\n",
       "      <th>163836</th>\n",
       "      <td>4/25/2000</td>\n",
       "      <td>de</td>\n",
       "      <td>de</td>\n",
       "      <td>Ciao</td>\n",
       "      <td>2</td>\n",
       "      <td>michaelawr</td>\n",
       "      <td>Alcatel Club Plus Handy</td>\n",
       "    </tr>\n",
       "  </tbody>\n",
       "</table>\n",
       "</div>"
      ],
      "text/plain": [
       "             date lang country source  score        author  \\\n",
       "163832  5/12/2000   de      de   Ciao      2    david.paul   \n",
       "163833  5/11/2000   de      de   Ciao     10  Christiane14   \n",
       "163834   5/4/2000   de      de   Ciao      2    michaelawr   \n",
       "163835   5/1/2000   de      de   Ciao      8   claudia0815   \n",
       "163836  4/25/2000   de      de   Ciao      2    michaelawr   \n",
       "\n",
       "                        product  \n",
       "163832  Alcatel Club Plus Handy  \n",
       "163833  Alcatel Club Plus Handy  \n",
       "163834  Alcatel Club Plus Handy  \n",
       "163835  Alcatel Club Plus Handy  \n",
       "163836  Alcatel Club Plus Handy  "
      ]
     },
     "execution_count": 239,
     "metadata": {},
     "output_type": "execute_result"
    }
   ],
   "source": [
    "# Check for duplicates and remove them using author and product columns\n",
    "\n",
    "df_new = df.drop_duplicates(subset=['date', 'source', 'author', 'product'], keep='first', inplace=False, ignore_index=False)\n",
    "df_new.tail()"
   ]
  },
  {
   "cell_type": "code",
   "execution_count": 240,
   "metadata": {},
   "outputs": [
    {
     "name": "stdout",
     "output_type": "stream",
     "text": [
      "Shape of data file after removing duplicate ratings from users on the same product is: (1258038, 7)\n"
     ]
    }
   ],
   "source": [
    "print('Shape of data file after removing duplicate ratings from users on the same product is: {}'.format(df_new.shape))"
   ]
  },
  {
   "cell_type": "code",
   "execution_count": 241,
   "metadata": {},
   "outputs": [
    {
     "name": "stdout",
     "output_type": "stream",
     "text": [
      "Shape of data file after sampling is: (1000000, 7)\n"
     ]
    }
   ],
   "source": [
    "# Sampling data to keep only 1000000 rows \n",
    "\n",
    "df_samp = df_new.sample(n=1000000, random_state=612)\n",
    "print('Shape of data file after sampling is: {}'.format(df_samp.shape))"
   ]
  },
  {
   "cell_type": "code",
   "execution_count": 242,
   "metadata": {},
   "outputs": [
    {
     "data": {
      "text/html": [
       "<div>\n",
       "<style scoped>\n",
       "    .dataframe tbody tr th:only-of-type {\n",
       "        vertical-align: middle;\n",
       "    }\n",
       "\n",
       "    .dataframe tbody tr th {\n",
       "        vertical-align: top;\n",
       "    }\n",
       "\n",
       "    .dataframe thead th {\n",
       "        text-align: right;\n",
       "    }\n",
       "</style>\n",
       "<table border=\"1\" class=\"dataframe\">\n",
       "  <thead>\n",
       "    <tr style=\"text-align: right;\">\n",
       "      <th></th>\n",
       "      <th>date</th>\n",
       "      <th>lang</th>\n",
       "      <th>country</th>\n",
       "      <th>source</th>\n",
       "      <th>score</th>\n",
       "      <th>author</th>\n",
       "      <th>product</th>\n",
       "    </tr>\n",
       "  </thead>\n",
       "  <tbody>\n",
       "    <tr>\n",
       "      <th>0</th>\n",
       "      <td>8/19/2009</td>\n",
       "      <td>en</td>\n",
       "      <td>us</td>\n",
       "      <td>Newegg</td>\n",
       "      <td>6</td>\n",
       "      <td>Alan C.</td>\n",
       "      <td>Nokia E63 110 MB Blue Unlocked GSM Smart Phone...</td>\n",
       "    </tr>\n",
       "    <tr>\n",
       "      <th>1</th>\n",
       "      <td>7/23/2013</td>\n",
       "      <td>fr</td>\n",
       "      <td>fr</td>\n",
       "      <td>Amazon</td>\n",
       "      <td>10</td>\n",
       "      <td>Robert Anouk</td>\n",
       "      <td>universel Etui Sony Xperia J ST26I slim cuir noir</td>\n",
       "    </tr>\n",
       "    <tr>\n",
       "      <th>2</th>\n",
       "      <td>7/15/2014</td>\n",
       "      <td>pt</td>\n",
       "      <td>br</td>\n",
       "      <td>Americanas</td>\n",
       "      <td>8</td>\n",
       "      <td>Bruno Kanitz</td>\n",
       "      <td>Nokia Smartphone Nokia Lumia 925 Desbloqueado ...</td>\n",
       "    </tr>\n",
       "    <tr>\n",
       "      <th>3</th>\n",
       "      <td>8/22/2013</td>\n",
       "      <td>en</td>\n",
       "      <td>us</td>\n",
       "      <td>Amazon</td>\n",
       "      <td>10</td>\n",
       "      <td>Sharon C Karnes</td>\n",
       "      <td>LG Optimus Extreme Android Prepaid Phone (Net10)</td>\n",
       "    </tr>\n",
       "    <tr>\n",
       "      <th>4</th>\n",
       "      <td>11/26/2015</td>\n",
       "      <td>en</td>\n",
       "      <td>gb</td>\n",
       "      <td>Amazon</td>\n",
       "      <td>4</td>\n",
       "      <td>ripon</td>\n",
       "      <td>Apple iPhone 6s Plus Silver 128GB (UK Version)...</td>\n",
       "    </tr>\n",
       "  </tbody>\n",
       "</table>\n",
       "</div>"
      ],
      "text/plain": [
       "         date lang country      source  score           author  \\\n",
       "0   8/19/2009   en      us      Newegg      6          Alan C.   \n",
       "1   7/23/2013   fr      fr      Amazon     10     Robert Anouk   \n",
       "2   7/15/2014   pt      br  Americanas      8     Bruno Kanitz   \n",
       "3   8/22/2013   en      us      Amazon     10  Sharon C Karnes   \n",
       "4  11/26/2015   en      gb      Amazon      4            ripon   \n",
       "\n",
       "                                             product  \n",
       "0  Nokia E63 110 MB Blue Unlocked GSM Smart Phone...  \n",
       "1  universel Etui Sony Xperia J ST26I slim cuir noir  \n",
       "2  Nokia Smartphone Nokia Lumia 925 Desbloqueado ...  \n",
       "3   LG Optimus Extreme Android Prepaid Phone (Net10)  \n",
       "4  Apple iPhone 6s Plus Silver 128GB (UK Version)...  "
      ]
     },
     "execution_count": 242,
     "metadata": {},
     "output_type": "execute_result"
    }
   ],
   "source": [
    "df_samp = df_samp.reset_index(drop=True)\n",
    "df_samp.head()"
   ]
  },
  {
   "cell_type": "code",
   "execution_count": 243,
   "metadata": {},
   "outputs": [
    {
     "name": "stdout",
     "output_type": "stream",
     "text": [
      "The top ten products with most number of reviews are:\n"
     ]
    },
    {
     "data": {
      "text/plain": [
       "product\n",
       "OnePlus 3 (Graphite, 64 GB)               1791\n",
       "Lenovo Vibe K4 Note (White,16GB)          1750\n",
       "Samsung Galaxy Express I8730              1727\n",
       "Samsung Galaxy J3 (8GB)                   1496\n",
       "Lenovo Vibe K4 Note (Black, 16GB)         1496\n",
       "OnePlus 3 (Soft Gold, 64 GB)              1435\n",
       "Nokia N95                                 1433\n",
       "Samsung Galaxy S7 edge 32GB (Verizon)     1407\n",
       "Samsung Galaxy S7 edge 32GB (T-Mobile)    1352\n",
       "Nokia 5800 XpressMusic                    1304\n",
       "Name: score, dtype: int64"
      ]
     },
     "execution_count": 243,
     "metadata": {},
     "output_type": "execute_result"
    }
   ],
   "source": [
    "print('The top ten products with most number of reviews are:')\n",
    "products_rated_count = df_samp.groupby('product')['score'].count().sort_values(ascending=False)\n",
    "products_rated_count.head(10)"
   ]
  },
  {
   "cell_type": "code",
   "execution_count": 244,
   "metadata": {},
   "outputs": [
    {
     "name": "stdout",
     "output_type": "stream",
     "text": [
      "The top ten authors who have given most number of reviews are:\n"
     ]
    },
    {
     "data": {
      "text/plain": [
       "author\n",
       "Amazon Customer    17764\n",
       "Cliente Amazon     10572\n",
       "e-bit               4581\n",
       "Amazon Kunde        3594\n",
       "Client d'Amazon     2694\n",
       "Anonymous           2086\n",
       "einer Kundin        1440\n",
       "einem Kunden        1131\n",
       "Anonymous           1053\n",
       "unknown              802\n",
       "Name: score, dtype: int64"
      ]
     },
     "execution_count": 244,
     "metadata": {},
     "output_type": "execute_result"
    }
   ],
   "source": [
    "print('The top ten authors who have given most number of reviews are:')\n",
    "user_rated_count = df_samp.groupby('author')['score'].count().sort_values(ascending=False)\n",
    "user_rated_count.head(10)"
   ]
  },
  {
   "cell_type": "code",
   "execution_count": 245,
   "metadata": {},
   "outputs": [
    {
     "name": "stdout",
     "output_type": "stream",
     "text": [
      "Count of products having more than 50 reviews      : 4631\n",
      "Count of users who have given more than 50 reviews : 717\n"
     ]
    }
   ],
   "source": [
    "print('Count of products having more than 50 reviews      : {}'.format(sum(products_rated_count >= 50)) )\n",
    "print('Count of users who have given more than 50 reviews : {}'.format(sum(user_rated_count >= 50)) )"
   ]
  },
  {
   "cell_type": "code",
   "execution_count": 246,
   "metadata": {},
   "outputs": [
    {
     "data": {
      "text/html": [
       "<div>\n",
       "<style scoped>\n",
       "    .dataframe tbody tr th:only-of-type {\n",
       "        vertical-align: middle;\n",
       "    }\n",
       "\n",
       "    .dataframe tbody tr th {\n",
       "        vertical-align: top;\n",
       "    }\n",
       "\n",
       "    .dataframe thead th {\n",
       "        text-align: right;\n",
       "    }\n",
       "</style>\n",
       "<table border=\"1\" class=\"dataframe\">\n",
       "  <thead>\n",
       "    <tr style=\"text-align: right;\">\n",
       "      <th></th>\n",
       "      <th>date</th>\n",
       "      <th>lang</th>\n",
       "      <th>country</th>\n",
       "      <th>source</th>\n",
       "      <th>score</th>\n",
       "      <th>author</th>\n",
       "      <th>product</th>\n",
       "    </tr>\n",
       "  </thead>\n",
       "  <tbody>\n",
       "    <tr>\n",
       "      <th>0</th>\n",
       "      <td>8/3/2016</td>\n",
       "      <td>it</td>\n",
       "      <td>it</td>\n",
       "      <td>Amazon</td>\n",
       "      <td>10</td>\n",
       "      <td>Cliente Amazon</td>\n",
       "      <td>Huawei P9 Lite Smartphone, LTE, Display 5.2'' ...</td>\n",
       "    </tr>\n",
       "    <tr>\n",
       "      <th>1</th>\n",
       "      <td>8/14/2016</td>\n",
       "      <td>de</td>\n",
       "      <td>de</td>\n",
       "      <td>Otto.de</td>\n",
       "      <td>10</td>\n",
       "      <td>einem Kunden</td>\n",
       "      <td>Samsung Galaxy A3 (2016) - A310F Smartphone, 1...</td>\n",
       "    </tr>\n",
       "    <tr>\n",
       "      <th>2</th>\n",
       "      <td>11/6/2015</td>\n",
       "      <td>it</td>\n",
       "      <td>it</td>\n",
       "      <td>Amazon</td>\n",
       "      <td>10</td>\n",
       "      <td>Cliente Amazon</td>\n",
       "      <td>Lenovo Motorola Moto G 4G 3 Generazione Smartp...</td>\n",
       "    </tr>\n",
       "    <tr>\n",
       "      <th>3</th>\n",
       "      <td>10/10/2015</td>\n",
       "      <td>de</td>\n",
       "      <td>de</td>\n",
       "      <td>Otto.de</td>\n",
       "      <td>10</td>\n",
       "      <td>einem Kunden</td>\n",
       "      <td>Apple iPhone 6s 4,7\" 128 GB</td>\n",
       "    </tr>\n",
       "    <tr>\n",
       "      <th>4</th>\n",
       "      <td>5/7/2016</td>\n",
       "      <td>de</td>\n",
       "      <td>de</td>\n",
       "      <td>Otto.de</td>\n",
       "      <td>10</td>\n",
       "      <td>einem Kunden</td>\n",
       "      <td>Samsung Galaxy A3 (2016) - A310F Smartphone, 1...</td>\n",
       "    </tr>\n",
       "  </tbody>\n",
       "</table>\n",
       "</div>"
      ],
      "text/plain": [
       "         date lang country   source  score          author  \\\n",
       "0    8/3/2016   it      it   Amazon     10  Cliente Amazon   \n",
       "1   8/14/2016   de      de  Otto.de     10    einem Kunden   \n",
       "2   11/6/2015   it      it   Amazon     10  Cliente Amazon   \n",
       "3  10/10/2015   de      de  Otto.de     10    einem Kunden   \n",
       "4    5/7/2016   de      de  Otto.de     10    einem Kunden   \n",
       "\n",
       "                                             product  \n",
       "0  Huawei P9 Lite Smartphone, LTE, Display 5.2'' ...  \n",
       "1  Samsung Galaxy A3 (2016) - A310F Smartphone, 1...  \n",
       "2  Lenovo Motorola Moto G 4G 3 Generazione Smartp...  \n",
       "3                        Apple iPhone 6s 4,7\" 128 GB  \n",
       "4  Samsung Galaxy A3 (2016) - A310F Smartphone, 1...  "
      ]
     },
     "execution_count": 246,
     "metadata": {},
     "output_type": "execute_result"
    }
   ],
   "source": [
    "df_fin = df_samp.groupby([\"product\", \"author\"]).filter(lambda x:x['score'].count() >=50)\n",
    "df_fin = df_fin.reset_index(drop=True)\n",
    "df_fin.head()"
   ]
  },
  {
   "cell_type": "code",
   "execution_count": 247,
   "metadata": {},
   "outputs": [],
   "source": [
    "# df_sel1 = df_samp.groupby([\"author\"]).filter(lambda x:x['product'].count() >=50)\n",
    "# df_sel2 = df_samp.groupby([\"product\"]).filter(lambda x:x['author'].count() >=50)\n",
    "# df_sel = pd.concat([df_sel1,df_sel2], axis=0)\n",
    "# # df_fin = df_fin.reset_index(drop=True)\n",
    "# df_sel.shape"
   ]
  },
  {
   "cell_type": "code",
   "execution_count": 248,
   "metadata": {},
   "outputs": [],
   "source": [
    "# df_sel1 = df_sel.drop_duplicates(subset=['author', 'product', 'score'], keep='first', inplace=False, ignore_index=False)\n",
    "# df_sel1.shape"
   ]
  },
  {
   "cell_type": "code",
   "execution_count": 249,
   "metadata": {},
   "outputs": [
    {
     "name": "stdout",
     "output_type": "stream",
     "text": [
      "Shape of data file having product rated more than 50 times and users who have rated more than 50 times is: (6250, 7)\n"
     ]
    }
   ],
   "source": [
    "print('Shape of data file having product rated more than 50 times and users who have rated more than 50 times is: {}'.format(df_fin.shape))"
   ]
  },
  {
   "cell_type": "markdown",
   "metadata": {},
   "source": [
    "### Popularity based recommedation system\n",
    "The Popularity based recommendation system is one of the commonly used model. This is not actually personalized, it simply recommends to a user the most popular product that the user has not previously used."
   ]
  },
  {
   "cell_type": "code",
   "execution_count": 250,
   "metadata": {},
   "outputs": [
    {
     "data": {
      "text/html": [
       "<div>\n",
       "<style scoped>\n",
       "    .dataframe tbody tr th:only-of-type {\n",
       "        vertical-align: middle;\n",
       "    }\n",
       "\n",
       "    .dataframe tbody tr th {\n",
       "        vertical-align: top;\n",
       "    }\n",
       "\n",
       "    .dataframe thead th {\n",
       "        text-align: right;\n",
       "    }\n",
       "</style>\n",
       "<table border=\"1\" class=\"dataframe\">\n",
       "  <thead>\n",
       "    <tr style=\"text-align: right;\">\n",
       "      <th></th>\n",
       "      <th>score</th>\n",
       "      <th>prod_counts</th>\n",
       "    </tr>\n",
       "    <tr>\n",
       "      <th>product</th>\n",
       "      <th></th>\n",
       "      <th></th>\n",
       "    </tr>\n",
       "  </thead>\n",
       "  <tbody>\n",
       "    <tr>\n",
       "      <th>Alcatel One Touch 20-04G Telefono Cellulare, Nero</th>\n",
       "      <td>8.867925</td>\n",
       "      <td>53</td>\n",
       "    </tr>\n",
       "    <tr>\n",
       "      <th>Apple Apple iPhone 5s - 32GB - Zilver</th>\n",
       "      <td>9.169231</td>\n",
       "      <td>65</td>\n",
       "    </tr>\n",
       "    <tr>\n",
       "      <th>Apple iPhone 6s 4,7\" 128 GB</th>\n",
       "      <td>9.802469</td>\n",
       "      <td>162</td>\n",
       "    </tr>\n",
       "    <tr>\n",
       "      <th>Apple iPhone 6s Plus 5,5\" 128 GB</th>\n",
       "      <td>9.743119</td>\n",
       "      <td>109</td>\n",
       "    </tr>\n",
       "    <tr>\n",
       "      <th>Apple iPhone 7 4,7\" 32 GB</th>\n",
       "      <td>9.752381</td>\n",
       "      <td>210</td>\n",
       "    </tr>\n",
       "  </tbody>\n",
       "</table>\n",
       "</div>"
      ],
      "text/plain": [
       "                                                      score  prod_counts\n",
       "product                                                                 \n",
       "Alcatel One Touch 20-04G Telefono Cellulare, Nero  8.867925           53\n",
       "Apple Apple iPhone 5s - 32GB - Zilver              9.169231           65\n",
       "Apple iPhone 6s 4,7\" 128 GB                        9.802469          162\n",
       "Apple iPhone 6s Plus 5,5\" 128 GB                   9.743119          109\n",
       "Apple iPhone 7 4,7\" 32 GB                          9.752381          210"
      ]
     },
     "execution_count": 250,
     "metadata": {},
     "output_type": "execute_result"
    }
   ],
   "source": [
    "mean_count_prod = pd.DataFrame(df_fin.groupby('product')['score'].mean())\n",
    "mean_count_prod['prod_counts'] = pd.DataFrame(df_fin.groupby('product')['score'].count())\n",
    "mean_count_prod.head(5)"
   ]
  },
  {
   "cell_type": "code",
   "execution_count": 251,
   "metadata": {},
   "outputs": [
    {
     "data": {
      "text/html": [
       "<div>\n",
       "<style scoped>\n",
       "    .dataframe tbody tr th:only-of-type {\n",
       "        vertical-align: middle;\n",
       "    }\n",
       "\n",
       "    .dataframe tbody tr th {\n",
       "        vertical-align: top;\n",
       "    }\n",
       "\n",
       "    .dataframe thead th {\n",
       "        text-align: right;\n",
       "    }\n",
       "</style>\n",
       "<table border=\"1\" class=\"dataframe\">\n",
       "  <thead>\n",
       "    <tr style=\"text-align: right;\">\n",
       "      <th></th>\n",
       "      <th>score</th>\n",
       "      <th>user_counts</th>\n",
       "    </tr>\n",
       "    <tr>\n",
       "      <th>author</th>\n",
       "      <th></th>\n",
       "      <th></th>\n",
       "    </tr>\n",
       "  </thead>\n",
       "  <tbody>\n",
       "    <tr>\n",
       "      <th>Amazon Customer</th>\n",
       "      <td>6.232143</td>\n",
       "      <td>224</td>\n",
       "    </tr>\n",
       "    <tr>\n",
       "      <th>Amazon Kunde</th>\n",
       "      <td>7.683333</td>\n",
       "      <td>120</td>\n",
       "    </tr>\n",
       "    <tr>\n",
       "      <th>Anonymous</th>\n",
       "      <td>8.807692</td>\n",
       "      <td>52</td>\n",
       "    </tr>\n",
       "    <tr>\n",
       "      <th>Cliente Amazon</th>\n",
       "      <td>8.479918</td>\n",
       "      <td>971</td>\n",
       "    </tr>\n",
       "    <tr>\n",
       "      <th>e-bit</th>\n",
       "      <td>8.906333</td>\n",
       "      <td>2637</td>\n",
       "    </tr>\n",
       "  </tbody>\n",
       "</table>\n",
       "</div>"
      ],
      "text/plain": [
       "                    score  user_counts\n",
       "author                                \n",
       "Amazon Customer  6.232143          224\n",
       "Amazon Kunde     7.683333          120\n",
       "Anonymous        8.807692           52\n",
       "Cliente Amazon   8.479918          971\n",
       "e-bit            8.906333         2637"
      ]
     },
     "execution_count": 251,
     "metadata": {},
     "output_type": "execute_result"
    }
   ],
   "source": [
    "mean_count_user = pd.DataFrame(df_fin.groupby('author')['score'].mean())\n",
    "mean_count_user['user_counts'] = pd.DataFrame(df_fin.groupby('author')['score'].count())\n",
    "mean_count_user.head()"
   ]
  },
  {
   "cell_type": "code",
   "execution_count": 252,
   "metadata": {},
   "outputs": [
    {
     "data": {
      "image/png": "[encoded data removed]",
      "text/plain": [
       "<Figure size 720x360 with 1 Axes>"
      ]
     },
     "metadata": {
      "needs_background": "light"
     },
     "output_type": "display_data"
    }
   ],
   "source": [
    "plt.figure(figsize=(10,5))\n",
    "plt.title('Number of reviews for a product')\n",
    "plt.rcParams['patch.force_edgecolor'] = True\n",
    "mean_count_prod['prod_counts'].hist(bins=100);"
   ]
  },
  {
   "cell_type": "markdown",
   "metadata": {},
   "source": [
    "We can see that most of the products have less than 200 reviews."
   ]
  },
  {
   "cell_type": "code",
   "execution_count": 253,
   "metadata": {},
   "outputs": [
    {
     "data": {
      "image/png": "[encoded data removed]",
      "text/plain": [
       "<Figure size 720x360 with 1 Axes>"
      ]
     },
     "metadata": {
      "needs_background": "light"
     },
     "output_type": "display_data"
    }
   ],
   "source": [
    "plt.figure(figsize=(10,5))\n",
    "plt.title('Mean scores of products')\n",
    "plt.rcParams['patch.force_edgecolor'] = True\n",
    "mean_count_prod['score'].hist(bins=100);"
   ]
  },
  {
   "cell_type": "markdown",
   "metadata": {},
   "source": [
    "We can observe that most of the producs have mean scores between 8.5 and 10."
   ]
  },
  {
   "cell_type": "code",
   "execution_count": 254,
   "metadata": {},
   "outputs": [
    {
     "data": {
      "text/plain": [
       "<Figure size 720x360 with 0 Axes>"
      ]
     },
     "metadata": {},
     "output_type": "display_data"
    },
    {
     "data": {
      "image/png": "[encoded data removed]",
      "text/plain": [
       "<Figure size 432x432 with 3 Axes>"
      ]
     },
     "metadata": {
      "needs_background": "light"
     },
     "output_type": "display_data"
    }
   ],
   "source": [
    "plt.figure(figsize=(10,5))\n",
    "plt.rcParams['patch.force_edgecolor'] = True\n",
    "sns.jointplot(x='score', y='prod_counts', data=mean_count_prod, alpha=0.5);"
   ]
  },
  {
   "cell_type": "markdown",
   "metadata": {},
   "source": [
    "From the plot we can observe that products have more number of reviews have higher mean scores in general."
   ]
  },
  {
   "cell_type": "code",
   "execution_count": 255,
   "metadata": {},
   "outputs": [
    {
     "name": "stdout",
     "output_type": "stream",
     "text": [
      "Top 5 popular products recommended are:\n"
     ]
    },
    {
     "data": {
      "text/plain": [
       "product\n",
       "Apple iPhone 6s 4,7\" 128 GB          9.802469\n",
       "Smartphone Asus ZenFone 3 ZE552KL    9.764706\n",
       "Apple iPhone 7 4,7\" 32 GB            9.752381\n",
       "Apple iPhone 6s Plus 5,5\" 128 GB     9.743119\n",
       "Smartphone LG G2 D805                9.654135\n",
       "Name: score, dtype: float64"
      ]
     },
     "execution_count": 255,
     "metadata": {},
     "output_type": "execute_result"
    }
   ],
   "source": [
    "print('Top 5 popular products recommended are:')\n",
    "df_fin.groupby('product')['score'].mean().sort_values(ascending=False).head()"
   ]
  },
  {
   "cell_type": "markdown",
   "metadata": {},
   "source": [
    "As we can see above we can observe that 3 out of 5 products are of Apple origin, other two products belong to Asus and LG companies. Also we can say that we have reviews from different users since we have removed multiple reviews from a single user by dropping duplicates. Thus, we can say that this is an effective approach and reliable popularity based recommendation."
   ]
  },
  {
   "cell_type": "markdown",
   "metadata": {},
   "source": [
    "### Collaborative filtering using SVD (Model based)\n",
    "The Singular-Value Decomposition, or SVD for short, is a matrix decomposition method for reducing a matrix to its constituent parts in order to make certain subsequent matrix calculations simpler. It provides another way to factorize a matrix, into singular vectors and singular values."
   ]
  },
  {
   "cell_type": "code",
   "execution_count": 256,
   "metadata": {},
   "outputs": [
    {
     "data": {
      "text/html": [
       "<div>\n",
       "<style scoped>\n",
       "    .dataframe tbody tr th:only-of-type {\n",
       "        vertical-align: middle;\n",
       "    }\n",
       "\n",
       "    .dataframe tbody tr th {\n",
       "        vertical-align: top;\n",
       "    }\n",
       "\n",
       "    .dataframe thead th {\n",
       "        text-align: right;\n",
       "    }\n",
       "</style>\n",
       "<table border=\"1\" class=\"dataframe\">\n",
       "  <thead>\n",
       "    <tr style=\"text-align: right;\">\n",
       "      <th></th>\n",
       "      <th>author</th>\n",
       "      <th>product</th>\n",
       "      <th>score</th>\n",
       "    </tr>\n",
       "  </thead>\n",
       "  <tbody>\n",
       "    <tr>\n",
       "      <th>0</th>\n",
       "      <td>Cliente Amazon</td>\n",
       "      <td>Huawei P9 Lite Smartphone, LTE, Display 5.2'' ...</td>\n",
       "      <td>10</td>\n",
       "    </tr>\n",
       "    <tr>\n",
       "      <th>1</th>\n",
       "      <td>einem Kunden</td>\n",
       "      <td>Samsung Galaxy A3 (2016) - A310F Smartphone, 1...</td>\n",
       "      <td>10</td>\n",
       "    </tr>\n",
       "    <tr>\n",
       "      <th>2</th>\n",
       "      <td>Cliente Amazon</td>\n",
       "      <td>Lenovo Motorola Moto G 4G 3 Generazione Smartp...</td>\n",
       "      <td>10</td>\n",
       "    </tr>\n",
       "    <tr>\n",
       "      <th>3</th>\n",
       "      <td>einem Kunden</td>\n",
       "      <td>Apple iPhone 6s 4,7\" 128 GB</td>\n",
       "      <td>10</td>\n",
       "    </tr>\n",
       "    <tr>\n",
       "      <th>4</th>\n",
       "      <td>einem Kunden</td>\n",
       "      <td>Samsung Galaxy A3 (2016) - A310F Smartphone, 1...</td>\n",
       "      <td>10</td>\n",
       "    </tr>\n",
       "  </tbody>\n",
       "</table>\n",
       "</div>"
      ],
      "text/plain": [
       "           author                                            product  score\n",
       "0  Cliente Amazon  Huawei P9 Lite Smartphone, LTE, Display 5.2'' ...     10\n",
       "1    einem Kunden  Samsung Galaxy A3 (2016) - A310F Smartphone, 1...     10\n",
       "2  Cliente Amazon  Lenovo Motorola Moto G 4G 3 Generazione Smartp...     10\n",
       "3    einem Kunden                        Apple iPhone 6s 4,7\" 128 GB     10\n",
       "4    einem Kunden  Samsung Galaxy A3 (2016) - A310F Smartphone, 1...     10"
      ]
     },
     "execution_count": 256,
     "metadata": {},
     "output_type": "execute_result"
    }
   ],
   "source": [
    "# Let's keep only auhtor, product and score columns in our dataset.\n",
    "df_col3 = df_fin.filter(['author','product','score'])\n",
    "df_col3.head()"
   ]
  },
  {
   "cell_type": "markdown",
   "metadata": {},
   "source": [
    "Surprise is a Python scikit for building and analyzing recommender systems that deal with explicit rating data. The Reader class is used to parse a file containing ratings in surprise package."
   ]
  },
  {
   "cell_type": "code",
   "execution_count": 257,
   "metadata": {},
   "outputs": [],
   "source": [
    "reader = Reader(rating_scale=(1, 10))\n",
    "surprise_df = Dataset.load_from_df(df_col3, reader)\n",
    "\n",
    "# Split the data into train and test\n",
    "from surprise.model_selection import train_test_split\n",
    "trainset, testset = train_test_split(surprise_df, test_size=0.3, random_state=10)"
   ]
  },
  {
   "cell_type": "code",
   "execution_count": 258,
   "metadata": {},
   "outputs": [],
   "source": [
    "# To get top n predictions\n",
    "from collections import defaultdict\n",
    "\n",
    "def get_top_n(predictions, n=500, latest=False):\n",
    "    # First map the predictions to each user.\n",
    "    top_n = defaultdict(list)\n",
    "    for user, prod, true_r, est, _ in predictions:\n",
    "        top_n[user].append((prod, est))\n",
    "\n",
    "    # Then sort the predictions for each user and retrieve the k highest ones.\n",
    "    for user, user_ratings in top_n.items():\n",
    "        user_ratings.sort(key=lambda x: x[1], reverse=True)\n",
    "        top_n[user] = user_ratings[:n]\n",
    "    return top_n"
   ]
  },
  {
   "cell_type": "markdown",
   "metadata": {},
   "source": [
    "Let's define a class and objects which will be helpful since we are going to test with different approaches."
   ]
  },
  {
   "cell_type": "code",
   "execution_count": 259,
   "metadata": {},
   "outputs": [],
   "source": [
    "# For ease of use to recommend\n",
    "class collab_filtering_based_recommender():\n",
    "\n",
    "# Initializing variables    \n",
    "    def __init__(self, model, trainset, testset, data):\n",
    "        self.model = model\n",
    "        self.trainset = trainset\n",
    "        self.testset = testset\n",
    "        self.data = data\n",
    "        self.pred_test = None\n",
    "        self.recommendations = None\n",
    "        self.top_n = None\n",
    "        self.recommenddf = None\n",
    "\n",
    "# Model fit and predict        \n",
    "    def fit_and_predict_product(self):        \n",
    "        printmd('**Fitting the train data...**', color='blue')\n",
    "        self.model.fit(self.trainset)       \n",
    "\n",
    "        printmd('**Predicting the test data...**', color='blue')\n",
    "        self.pred_test = self.model.test(self.testset)        \n",
    "        rmse = round(accuracy.rmse(self.pred_test), 3)\n",
    "        printmd('**RMSE for the predicted result is ' + str(rmse) + '**', color='blue')   \n",
    "        \n",
    "        self.top_n = get_top_n(self.pred_test)\n",
    "        self.recommenddf = pd.DataFrame(columns=['author', 'product', 'score'])\n",
    "        for item in self.top_n:\n",
    "            subdf = pd.DataFrame(self.top_n[item], columns=['product', 'score'])\n",
    "#             print(subdf)\n",
    "#             print('Here1')\n",
    "            subdf['author'] = item\n",
    "            cols = subdf.columns.tolist()\n",
    "            cols = cols[-1:] + cols[:-1]\n",
    "            subdf = subdf[cols]   \n",
    "#             print(subdf)\n",
    "#             print('Here2')\n",
    "            subdf_x = subdf.drop_duplicates(subset=['product', 'score'], keep='first', inplace=False, ignore_index=False)\n",
    "            subdf_x = subdf_x.reset_index(drop=True)\n",
    "#             print(subdf_x)\n",
    "            self.recommenddf = pd.concat([self.recommenddf, subdf_x], axis = 0)        \n",
    "        return rmse\n",
    "\n",
    "# Cross validate to get better results\n",
    "    def cross_validate(self):\n",
    "        printmd('**Cross Validating the data...**', color='blue')\n",
    "        cv_result = cross_validate(self.model, self.data, n_jobs=-1)\n",
    "        cv_result = round(cv_result['test_rmse'].mean(),3)\n",
    "        printmd('**Mean CV RMSE is ' + str(cv_result)  + '**', color='blue')\n",
    "        return cv_result\n",
    "\n",
    "# Recommending products   \n",
    "    def recommend_product(self, author_name, n=500):\n",
    "        printmd('**Recommending top ' + str(n)+ ' products for user ' + author_name + ' :**', color='blue')\n",
    "        \n",
    "        df = self.recommenddf[self.recommenddf['author'] == author_name].head(n)\n",
    "#         df_x = df.drop_duplicates(subset=['author', 'product', 'score'], keep='first', inplace=False, ignore_index=False)\n",
    "        display(df)\n",
    "#         display('here')\n",
    "        return df"
   ]
  },
  {
   "cell_type": "code",
   "execution_count": 260,
   "metadata": {},
   "outputs": [],
   "source": [
    "# Finding the best model using Random search or Grid search (Grid search comparitively takes more time)\n",
    "\n",
    "def find_best_model(model, parameters, data):\n",
    "    clf = RandomizedSearchCV(model, parameters, n_jobs=-1, measures=['rmse'])\n",
    "#     clf = GridSearchCV(model, parameters, measures=[\"rmse\", \"mae\"], cv=3)\n",
    "    clf.fit(data)             \n",
    "    print(clf.best_score)\n",
    "    print(clf.best_params)\n",
    "    print(clf.best_estimator)\n",
    "    return clf"
   ]
  },
  {
   "cell_type": "code",
   "execution_count": 261,
   "metadata": {},
   "outputs": [
    {
     "name": "stdout",
     "output_type": "stream",
     "text": [
      "{'rmse': 1.7939789009973253}\n",
      "{'rmse': {'n_epochs': 5, 'lr_all': 0.005, 'reg_all': 0.2}}\n",
      "{'rmse': <surprise.prediction_algorithms.matrix_factorization.SVD object at 0x0000022294B99310>}\n"
     ]
    }
   ],
   "source": [
    "# Giving parameters for search CV to find best model\n",
    "params= {\n",
    "    \"n_epochs\": [5, 10, 15, 20, 25],\n",
    "    \"lr_all\": [0.002, 0.005, 0.01, 0.02],\n",
    "    \"reg_all\": [0.2, 0.4, 0.6, 0.8, 1]\n",
    "    }\n",
    "clf = find_best_model(SVD, params, surprise_df)"
   ]
  },
  {
   "cell_type": "markdown",
   "metadata": {},
   "source": [
    "To acheive best results we have used Random search CV for hyperparameter tuning. Grid search usually takes more time as data gets large."
   ]
  },
  {
   "cell_type": "code",
   "execution_count": 262,
   "metadata": {},
   "outputs": [],
   "source": [
    "# Giving inputs to recommender\n",
    "svd = clf.best_estimator['rmse']\n",
    "col_fil_svd = collab_filtering_based_recommender(svd, trainset, testset, surprise_df)"
   ]
  },
  {
   "cell_type": "code",
   "execution_count": 263,
   "metadata": {},
   "outputs": [
    {
     "data": {
      "text/markdown": [
       "<span style='color:blue'>**Fitting the train data...**</span>"
      ],
      "text/plain": [
       "<IPython.core.display.Markdown object>"
      ]
     },
     "metadata": {},
     "output_type": "display_data"
    },
    {
     "data": {
      "text/markdown": [
       "<span style='color:blue'>**Predicting the test data...**</span>"
      ],
      "text/plain": [
       "<IPython.core.display.Markdown object>"
      ]
     },
     "metadata": {},
     "output_type": "display_data"
    },
    {
     "name": "stdout",
     "output_type": "stream",
     "text": [
      "RMSE: 1.8221\n"
     ]
    },
    {
     "data": {
      "text/markdown": [
       "<span style='color:blue'>**RMSE for the predicted result is 1.822**</span>"
      ],
      "text/plain": [
       "<IPython.core.display.Markdown object>"
      ]
     },
     "metadata": {},
     "output_type": "display_data"
    }
   ],
   "source": [
    "# Calculating RMSE\n",
    "svd_rmse = col_fil_svd.fit_and_predict_product()"
   ]
  },
  {
   "cell_type": "code",
   "execution_count": 264,
   "metadata": {},
   "outputs": [
    {
     "data": {
      "text/markdown": [
       "<span style='color:blue'>**Cross Validating the data...**</span>"
      ],
      "text/plain": [
       "<IPython.core.display.Markdown object>"
      ]
     },
     "metadata": {},
     "output_type": "display_data"
    },
    {
     "data": {
      "text/markdown": [
       "<span style='color:blue'>**Mean CV RMSE is 1.792**</span>"
      ],
      "text/plain": [
       "<IPython.core.display.Markdown object>"
      ]
     },
     "metadata": {},
     "output_type": "display_data"
    }
   ],
   "source": [
    "#cross validate\n",
    "svd_cv_rmse = col_fil_svd.cross_validate()"
   ]
  },
  {
   "cell_type": "markdown",
   "metadata": {},
   "source": [
    "We can see that mean RMSE is > 1.5. For good predictions RMSE should be less than 1. Let's recommend and try with other approach/methods to improve the results."
   ]
  },
  {
   "cell_type": "code",
   "execution_count": 265,
   "metadata": {},
   "outputs": [
    {
     "data": {
      "text/markdown": [
       "<span style='color:blue'>**Recommending top 5 products for user e-bit :**</span>"
      ],
      "text/plain": [
       "<IPython.core.display.Markdown object>"
      ]
     },
     "metadata": {},
     "output_type": "display_data"
    },
    {
     "data": {
      "text/html": [
       "<div>\n",
       "<style scoped>\n",
       "    .dataframe tbody tr th:only-of-type {\n",
       "        vertical-align: middle;\n",
       "    }\n",
       "\n",
       "    .dataframe tbody tr th {\n",
       "        vertical-align: top;\n",
       "    }\n",
       "\n",
       "    .dataframe thead th {\n",
       "        text-align: right;\n",
       "    }\n",
       "</style>\n",
       "<table border=\"1\" class=\"dataframe\">\n",
       "  <thead>\n",
       "    <tr style=\"text-align: right;\">\n",
       "      <th></th>\n",
       "      <th>author</th>\n",
       "      <th>product</th>\n",
       "      <th>score</th>\n",
       "    </tr>\n",
       "  </thead>\n",
       "  <tbody>\n",
       "    <tr>\n",
       "      <th>0</th>\n",
       "      <td>e-bit</td>\n",
       "      <td>Smartphone Asus ZenFone 3 ZE552KL</td>\n",
       "      <td>9.399038</td>\n",
       "    </tr>\n",
       "    <tr>\n",
       "      <th>1</th>\n",
       "      <td>e-bit</td>\n",
       "      <td>Smartphone LG G2 D805</td>\n",
       "      <td>9.395131</td>\n",
       "    </tr>\n",
       "    <tr>\n",
       "      <th>2</th>\n",
       "      <td>e-bit</td>\n",
       "      <td>Smartphone Samsung Galaxy S7 SM-G930 32GB</td>\n",
       "      <td>9.314904</td>\n",
       "    </tr>\n",
       "    <tr>\n",
       "      <th>3</th>\n",
       "      <td>e-bit</td>\n",
       "      <td>Smartphone Apple iPhone 6 16GB</td>\n",
       "      <td>9.262745</td>\n",
       "    </tr>\n",
       "    <tr>\n",
       "      <th>4</th>\n",
       "      <td>e-bit</td>\n",
       "      <td>Smartphone Asus ZenFone 3 ZE520KL</td>\n",
       "      <td>9.247959</td>\n",
       "    </tr>\n",
       "  </tbody>\n",
       "</table>\n",
       "</div>"
      ],
      "text/plain": [
       "  author                                    product     score\n",
       "0  e-bit          Smartphone Asus ZenFone 3 ZE552KL  9.399038\n",
       "1  e-bit                      Smartphone LG G2 D805  9.395131\n",
       "2  e-bit  Smartphone Samsung Galaxy S7 SM-G930 32GB  9.314904\n",
       "3  e-bit             Smartphone Apple iPhone 6 16GB  9.262745\n",
       "4  e-bit          Smartphone Asus ZenFone 3 ZE520KL  9.247959"
      ]
     },
     "metadata": {},
     "output_type": "display_data"
    },
    {
     "data": {
      "text/markdown": [
       "<span style='color:blue'>**Recommending top 5 products for user einem Kunden :**</span>"
      ],
      "text/plain": [
       "<IPython.core.display.Markdown object>"
      ]
     },
     "metadata": {},
     "output_type": "display_data"
    },
    {
     "data": {
      "text/html": [
       "<div>\n",
       "<style scoped>\n",
       "    .dataframe tbody tr th:only-of-type {\n",
       "        vertical-align: middle;\n",
       "    }\n",
       "\n",
       "    .dataframe tbody tr th {\n",
       "        vertical-align: top;\n",
       "    }\n",
       "\n",
       "    .dataframe thead th {\n",
       "        text-align: right;\n",
       "    }\n",
       "</style>\n",
       "<table border=\"1\" class=\"dataframe\">\n",
       "  <thead>\n",
       "    <tr style=\"text-align: right;\">\n",
       "      <th></th>\n",
       "      <th>author</th>\n",
       "      <th>product</th>\n",
       "      <th>score</th>\n",
       "    </tr>\n",
       "  </thead>\n",
       "  <tbody>\n",
       "    <tr>\n",
       "      <th>0</th>\n",
       "      <td>einem Kunden</td>\n",
       "      <td>Apple iPhone 6s 4,7\" 128 GB</td>\n",
       "      <td>9.723646</td>\n",
       "    </tr>\n",
       "    <tr>\n",
       "      <th>1</th>\n",
       "      <td>einem Kunden</td>\n",
       "      <td>Apple iPhone 7 4,7\" 32 GB</td>\n",
       "      <td>9.674864</td>\n",
       "    </tr>\n",
       "    <tr>\n",
       "      <th>2</th>\n",
       "      <td>einem Kunden</td>\n",
       "      <td>Apple iPhone 6s Plus 5,5\" 128 GB</td>\n",
       "      <td>9.605344</td>\n",
       "    </tr>\n",
       "    <tr>\n",
       "      <th>3</th>\n",
       "      <td>einem Kunden</td>\n",
       "      <td>Apple iPhone 7 Plus 5,5\" 128 GB</td>\n",
       "      <td>9.452683</td>\n",
       "    </tr>\n",
       "    <tr>\n",
       "      <th>4</th>\n",
       "      <td>einem Kunden</td>\n",
       "      <td>Samsung Galaxy A3 (2016) - A310F Smartphone, 1...</td>\n",
       "      <td>9.446536</td>\n",
       "    </tr>\n",
       "  </tbody>\n",
       "</table>\n",
       "</div>"
      ],
      "text/plain": [
       "         author                                            product     score\n",
       "0  einem Kunden                        Apple iPhone 6s 4,7\" 128 GB  9.723646\n",
       "1  einem Kunden                          Apple iPhone 7 4,7\" 32 GB  9.674864\n",
       "2  einem Kunden                   Apple iPhone 6s Plus 5,5\" 128 GB  9.605344\n",
       "3  einem Kunden                    Apple iPhone 7 Plus 5,5\" 128 GB  9.452683\n",
       "4  einem Kunden  Samsung Galaxy A3 (2016) - A310F Smartphone, 1...  9.446536"
      ]
     },
     "metadata": {},
     "output_type": "display_data"
    },
    {
     "data": {
      "text/markdown": [
       "<span style='color:blue'>**Recommending top 5 products for user Cliente Amazon :**</span>"
      ],
      "text/plain": [
       "<IPython.core.display.Markdown object>"
      ]
     },
     "metadata": {},
     "output_type": "display_data"
    },
    {
     "data": {
      "text/html": [
       "<div>\n",
       "<style scoped>\n",
       "    .dataframe tbody tr th:only-of-type {\n",
       "        vertical-align: middle;\n",
       "    }\n",
       "\n",
       "    .dataframe tbody tr th {\n",
       "        vertical-align: top;\n",
       "    }\n",
       "\n",
       "    .dataframe thead th {\n",
       "        text-align: right;\n",
       "    }\n",
       "</style>\n",
       "<table border=\"1\" class=\"dataframe\">\n",
       "  <thead>\n",
       "    <tr style=\"text-align: right;\">\n",
       "      <th></th>\n",
       "      <th>author</th>\n",
       "      <th>product</th>\n",
       "      <th>score</th>\n",
       "    </tr>\n",
       "  </thead>\n",
       "  <tbody>\n",
       "    <tr>\n",
       "      <th>0</th>\n",
       "      <td>Cliente Amazon</td>\n",
       "      <td>Asus ZE551ML-2A760WW Smartphone ZenFone 2 Delu...</td>\n",
       "      <td>9.224441</td>\n",
       "    </tr>\n",
       "    <tr>\n",
       "      <th>1</th>\n",
       "      <td>Cliente Amazon</td>\n",
       "      <td>Huawei P9 Lite Smartphone, LTE, Display 5.2'' ...</td>\n",
       "      <td>9.144582</td>\n",
       "    </tr>\n",
       "    <tr>\n",
       "      <th>2</th>\n",
       "      <td>Cliente Amazon</td>\n",
       "      <td>Huawei P9 Lite Smartphone, LTE, Display 5.2'' ...</td>\n",
       "      <td>8.863314</td>\n",
       "    </tr>\n",
       "    <tr>\n",
       "      <th>3</th>\n",
       "      <td>Cliente Amazon</td>\n",
       "      <td>Alcatel One Touch 20-04G Telefono Cellulare, Nero</td>\n",
       "      <td>8.744071</td>\n",
       "    </tr>\n",
       "    <tr>\n",
       "      <th>4</th>\n",
       "      <td>Cliente Amazon</td>\n",
       "      <td>Lenovo Motorola Moto G 4G 3 Generazione Smartp...</td>\n",
       "      <td>8.715213</td>\n",
       "    </tr>\n",
       "  </tbody>\n",
       "</table>\n",
       "</div>"
      ],
      "text/plain": [
       "           author                                            product     score\n",
       "0  Cliente Amazon  Asus ZE551ML-2A760WW Smartphone ZenFone 2 Delu...  9.224441\n",
       "1  Cliente Amazon  Huawei P9 Lite Smartphone, LTE, Display 5.2'' ...  9.144582\n",
       "2  Cliente Amazon  Huawei P9 Lite Smartphone, LTE, Display 5.2'' ...  8.863314\n",
       "3  Cliente Amazon  Alcatel One Touch 20-04G Telefono Cellulare, Nero  8.744071\n",
       "4  Cliente Amazon  Lenovo Motorola Moto G 4G 3 Generazione Smartp...  8.715213"
      ]
     },
     "metadata": {},
     "output_type": "display_data"
    }
   ],
   "source": [
    "# Recommend\n",
    "result_svd_user1 = col_fil_svd.recommend_product(author_name='e-bit', n=5)\n",
    "result_svd_user2 = col_fil_svd.recommend_product(author_name='einem Kunden', n=5)\n",
    "result_svd_user3 = col_fil_svd.recommend_product(author_name='Cliente Amazon', n=5)"
   ]
  },
  {
   "cell_type": "markdown",
   "metadata": {},
   "source": [
    "### Collaborative filtering model using KNN with means(Memory based)\n",
    "Collaborative Filtering Using k-Nearest Neighbors (kNN) kNN is a machine learning algorithm to find clusters of similar users based on common book ratings, and make predictions using the average rating of top-k nearest neighbors."
   ]
  },
  {
   "cell_type": "code",
   "execution_count": 266,
   "metadata": {},
   "outputs": [
    {
     "name": "stdout",
     "output_type": "stream",
     "text": [
      "{'rmse': 1.8058834909686958}\n",
      "{'rmse': {'k': 48, 'sim_options': {'name': 'cosine', 'min_support': 3, 'user_based': True}}}\n",
      "{'rmse': <surprise.prediction_algorithms.knns.KNNWithMeans object at 0x0000022294B81E50>}\n"
     ]
    }
   ],
   "source": [
    "sim_options = {\n",
    "    \"name\": [\"msd\", \"cosine\", \"pearson\", \"pearson_baseline\"],\n",
    "    \"min_support\": [3, 4, 5],\n",
    "    \"user_based\": [True],\n",
    "}\n",
    "params = { 'k': range(30,50,1), 'sim_options': sim_options}\n",
    "clf = find_best_model(KNNWithMeans, params, surprise_df)"
   ]
  },
  {
   "cell_type": "code",
   "execution_count": 267,
   "metadata": {},
   "outputs": [],
   "source": [
    "knnwithmeans = clf.best_estimator['rmse']\n",
    "col_fil_knnwithmeans = collab_filtering_based_recommender(knnwithmeans, trainset, testset, surprise_df)"
   ]
  },
  {
   "cell_type": "code",
   "execution_count": 268,
   "metadata": {},
   "outputs": [
    {
     "data": {
      "text/markdown": [
       "<span style='color:blue'>**Fitting the train data...**</span>"
      ],
      "text/plain": [
       "<IPython.core.display.Markdown object>"
      ]
     },
     "metadata": {},
     "output_type": "display_data"
    },
    {
     "name": "stdout",
     "output_type": "stream",
     "text": [
      "Computing the cosine similarity matrix...\n",
      "Done computing similarity matrix.\n"
     ]
    },
    {
     "data": {
      "text/markdown": [
       "<span style='color:blue'>**Predicting the test data...**</span>"
      ],
      "text/plain": [
       "<IPython.core.display.Markdown object>"
      ]
     },
     "metadata": {},
     "output_type": "display_data"
    },
    {
     "name": "stdout",
     "output_type": "stream",
     "text": [
      "RMSE: 1.8324\n"
     ]
    },
    {
     "data": {
      "text/markdown": [
       "<span style='color:blue'>**RMSE for the predicted result is 1.832**</span>"
      ],
      "text/plain": [
       "<IPython.core.display.Markdown object>"
      ]
     },
     "metadata": {},
     "output_type": "display_data"
    }
   ],
   "source": [
    "knnwithmeans_rmse = col_fil_knnwithmeans.fit_and_predict_product()"
   ]
  },
  {
   "cell_type": "code",
   "execution_count": 269,
   "metadata": {},
   "outputs": [
    {
     "data": {
      "text/markdown": [
       "<span style='color:blue'>**Cross Validating the data...**</span>"
      ],
      "text/plain": [
       "<IPython.core.display.Markdown object>"
      ]
     },
     "metadata": {},
     "output_type": "display_data"
    },
    {
     "data": {
      "text/markdown": [
       "<span style='color:blue'>**Mean CV RMSE is 1.799**</span>"
      ],
      "text/plain": [
       "<IPython.core.display.Markdown object>"
      ]
     },
     "metadata": {},
     "output_type": "display_data"
    }
   ],
   "source": [
    "knnwithmeans_cv_rmse = col_fil_knnwithmeans.cross_validate()"
   ]
  },
  {
   "cell_type": "markdown",
   "metadata": {},
   "source": [
    "RMSE value using KNN with means also seems to be giving similar results as SVD approach."
   ]
  },
  {
   "cell_type": "code",
   "execution_count": 270,
   "metadata": {},
   "outputs": [
    {
     "data": {
      "text/markdown": [
       "<span style='color:blue'>**Recommending top 5 products for user e-bit :**</span>"
      ],
      "text/plain": [
       "<IPython.core.display.Markdown object>"
      ]
     },
     "metadata": {},
     "output_type": "display_data"
    },
    {
     "data": {
      "text/html": [
       "<div>\n",
       "<style scoped>\n",
       "    .dataframe tbody tr th:only-of-type {\n",
       "        vertical-align: middle;\n",
       "    }\n",
       "\n",
       "    .dataframe tbody tr th {\n",
       "        vertical-align: top;\n",
       "    }\n",
       "\n",
       "    .dataframe thead th {\n",
       "        text-align: right;\n",
       "    }\n",
       "</style>\n",
       "<table border=\"1\" class=\"dataframe\">\n",
       "  <thead>\n",
       "    <tr style=\"text-align: right;\">\n",
       "      <th></th>\n",
       "      <th>author</th>\n",
       "      <th>product</th>\n",
       "      <th>score</th>\n",
       "    </tr>\n",
       "  </thead>\n",
       "  <tbody>\n",
       "    <tr>\n",
       "      <th>0</th>\n",
       "      <td>e-bit</td>\n",
       "      <td>Smartphone Asus ZenFone 3 ZE552KL</td>\n",
       "      <td>9.764706</td>\n",
       "    </tr>\n",
       "    <tr>\n",
       "      <th>1</th>\n",
       "      <td>e-bit</td>\n",
       "      <td>Smartphone Samsung Galaxy S7 SM-G930 32GB</td>\n",
       "      <td>9.696970</td>\n",
       "    </tr>\n",
       "    <tr>\n",
       "      <th>2</th>\n",
       "      <td>e-bit</td>\n",
       "      <td>Smartphone LG G2 D805</td>\n",
       "      <td>9.583333</td>\n",
       "    </tr>\n",
       "    <tr>\n",
       "      <th>3</th>\n",
       "      <td>e-bit</td>\n",
       "      <td>Smartphone Apple iPhone 6 16GB</td>\n",
       "      <td>9.555556</td>\n",
       "    </tr>\n",
       "    <tr>\n",
       "      <th>4</th>\n",
       "      <td>e-bit</td>\n",
       "      <td>Smartphone Asus ZenFone 3 ZE520KL</td>\n",
       "      <td>9.515152</td>\n",
       "    </tr>\n",
       "  </tbody>\n",
       "</table>\n",
       "</div>"
      ],
      "text/plain": [
       "  author                                    product     score\n",
       "0  e-bit          Smartphone Asus ZenFone 3 ZE552KL  9.764706\n",
       "1  e-bit  Smartphone Samsung Galaxy S7 SM-G930 32GB  9.696970\n",
       "2  e-bit                      Smartphone LG G2 D805  9.583333\n",
       "3  e-bit             Smartphone Apple iPhone 6 16GB  9.555556\n",
       "4  e-bit          Smartphone Asus ZenFone 3 ZE520KL  9.515152"
      ]
     },
     "metadata": {},
     "output_type": "display_data"
    },
    {
     "data": {
      "text/markdown": [
       "<span style='color:blue'>**Recommending top 5 products for user einem Kunden :**</span>"
      ],
      "text/plain": [
       "<IPython.core.display.Markdown object>"
      ]
     },
     "metadata": {},
     "output_type": "display_data"
    },
    {
     "data": {
      "text/html": [
       "<div>\n",
       "<style scoped>\n",
       "    .dataframe tbody tr th:only-of-type {\n",
       "        vertical-align: middle;\n",
       "    }\n",
       "\n",
       "    .dataframe tbody tr th {\n",
       "        vertical-align: top;\n",
       "    }\n",
       "\n",
       "    .dataframe thead th {\n",
       "        text-align: right;\n",
       "    }\n",
       "</style>\n",
       "<table border=\"1\" class=\"dataframe\">\n",
       "  <thead>\n",
       "    <tr style=\"text-align: right;\">\n",
       "      <th></th>\n",
       "      <th>author</th>\n",
       "      <th>product</th>\n",
       "      <th>score</th>\n",
       "    </tr>\n",
       "  </thead>\n",
       "  <tbody>\n",
       "    <tr>\n",
       "      <th>0</th>\n",
       "      <td>einem Kunden</td>\n",
       "      <td>Apple iPhone 6s Plus 5,5\" 128 GB</td>\n",
       "      <td>9.950989</td>\n",
       "    </tr>\n",
       "    <tr>\n",
       "      <th>1</th>\n",
       "      <td>einem Kunden</td>\n",
       "      <td>Apple iPhone 6s 4,7\" 128 GB</td>\n",
       "      <td>9.875000</td>\n",
       "    </tr>\n",
       "    <tr>\n",
       "      <th>2</th>\n",
       "      <td>einem Kunden</td>\n",
       "      <td>Apple iPhone 7 4,7\" 32 GB</td>\n",
       "      <td>9.708333</td>\n",
       "    </tr>\n",
       "    <tr>\n",
       "      <th>3</th>\n",
       "      <td>einem Kunden</td>\n",
       "      <td>Apple iPhone 7 Plus 5,5\" 128 GB</td>\n",
       "      <td>9.612325</td>\n",
       "    </tr>\n",
       "    <tr>\n",
       "      <th>4</th>\n",
       "      <td>einem Kunden</td>\n",
       "      <td>Samsung Galaxy A3 (2016) - A310F Smartphone, 1...</td>\n",
       "      <td>9.500000</td>\n",
       "    </tr>\n",
       "  </tbody>\n",
       "</table>\n",
       "</div>"
      ],
      "text/plain": [
       "         author                                            product     score\n",
       "0  einem Kunden                   Apple iPhone 6s Plus 5,5\" 128 GB  9.950989\n",
       "1  einem Kunden                        Apple iPhone 6s 4,7\" 128 GB  9.875000\n",
       "2  einem Kunden                          Apple iPhone 7 4,7\" 32 GB  9.708333\n",
       "3  einem Kunden                    Apple iPhone 7 Plus 5,5\" 128 GB  9.612325\n",
       "4  einem Kunden  Samsung Galaxy A3 (2016) - A310F Smartphone, 1...  9.500000"
      ]
     },
     "metadata": {},
     "output_type": "display_data"
    },
    {
     "data": {
      "text/markdown": [
       "<span style='color:blue'>**Recommending top 5 products for user Cliente Amazon :**</span>"
      ],
      "text/plain": [
       "<IPython.core.display.Markdown object>"
      ]
     },
     "metadata": {},
     "output_type": "display_data"
    },
    {
     "data": {
      "text/html": [
       "<div>\n",
       "<style scoped>\n",
       "    .dataframe tbody tr th:only-of-type {\n",
       "        vertical-align: middle;\n",
       "    }\n",
       "\n",
       "    .dataframe tbody tr th {\n",
       "        vertical-align: top;\n",
       "    }\n",
       "\n",
       "    .dataframe thead th {\n",
       "        text-align: right;\n",
       "    }\n",
       "</style>\n",
       "<table border=\"1\" class=\"dataframe\">\n",
       "  <thead>\n",
       "    <tr style=\"text-align: right;\">\n",
       "      <th></th>\n",
       "      <th>author</th>\n",
       "      <th>product</th>\n",
       "      <th>score</th>\n",
       "    </tr>\n",
       "  </thead>\n",
       "  <tbody>\n",
       "    <tr>\n",
       "      <th>0</th>\n",
       "      <td>Cliente Amazon</td>\n",
       "      <td>Asus ZE551ML-2A760WW Smartphone ZenFone 2 Delu...</td>\n",
       "      <td>9.550000</td>\n",
       "    </tr>\n",
       "    <tr>\n",
       "      <th>1</th>\n",
       "      <td>Cliente Amazon</td>\n",
       "      <td>Huawei P9 Lite Smartphone, LTE, Display 5.2'' ...</td>\n",
       "      <td>9.380952</td>\n",
       "    </tr>\n",
       "    <tr>\n",
       "      <th>2</th>\n",
       "      <td>Cliente Amazon</td>\n",
       "      <td>Huawei P9 Lite Smartphone, LTE, Display 5.2'' ...</td>\n",
       "      <td>8.916667</td>\n",
       "    </tr>\n",
       "    <tr>\n",
       "      <th>3</th>\n",
       "      <td>Cliente Amazon</td>\n",
       "      <td>Alcatel One Touch 20-04G Telefono Cellulare, Nero</td>\n",
       "      <td>8.727273</td>\n",
       "    </tr>\n",
       "    <tr>\n",
       "      <th>4</th>\n",
       "      <td>Cliente Amazon</td>\n",
       "      <td>Lenovo Motorola Moto G 4G 3 Generazione Smartp...</td>\n",
       "      <td>8.682927</td>\n",
       "    </tr>\n",
       "  </tbody>\n",
       "</table>\n",
       "</div>"
      ],
      "text/plain": [
       "           author                                            product     score\n",
       "0  Cliente Amazon  Asus ZE551ML-2A760WW Smartphone ZenFone 2 Delu...  9.550000\n",
       "1  Cliente Amazon  Huawei P9 Lite Smartphone, LTE, Display 5.2'' ...  9.380952\n",
       "2  Cliente Amazon  Huawei P9 Lite Smartphone, LTE, Display 5.2'' ...  8.916667\n",
       "3  Cliente Amazon  Alcatel One Touch 20-04G Telefono Cellulare, Nero  8.727273\n",
       "4  Cliente Amazon  Lenovo Motorola Moto G 4G 3 Generazione Smartp...  8.682927"
      ]
     },
     "metadata": {},
     "output_type": "display_data"
    }
   ],
   "source": [
    "result_knn_user1 = col_fil_knnwithmeans.recommend_product(author_name='e-bit', n=5)\n",
    "result_knn_user2 = col_fil_knnwithmeans.recommend_product(author_name='einem Kunden', n=5)\n",
    "result_knn_user3 = col_fil_knnwithmeans.recommend_product(author_name='Cliente Amazon', n=5)"
   ]
  },
  {
   "cell_type": "markdown",
   "metadata": {},
   "source": [
    "#### Item-Item based"
   ]
  },
  {
   "cell_type": "code",
   "execution_count": 271,
   "metadata": {},
   "outputs": [],
   "source": [
    "# To get top n predictions\n",
    "# from collections import defaultdict\n",
    "\n",
    "def get_top_n1(predictions1, n=10000, latest=False):\n",
    "    # First map the predictions to each user.\n",
    "    top_n1 = defaultdict(list)\n",
    "    for user1, prod1, true_r1, est1, _ in predictions1:\n",
    "        top_n1[prod1].append((user1, est1))\n",
    "\n",
    "    # Then sort the predictions for each user and retrieve the k highest ones.\n",
    "    for prod1, user_ratings1 in top_n1.items():\n",
    "        user_ratings1.sort(key=lambda x: x[1], reverse=True)\n",
    "        top_n1[prod1] = user_ratings1[:n]\n",
    "    return top_n1"
   ]
  },
  {
   "cell_type": "code",
   "execution_count": 272,
   "metadata": {},
   "outputs": [],
   "source": [
    "# For ease of use to recommend\n",
    "class collab_filtering_based_recommender1():\n",
    "\n",
    "# Initializing variables    \n",
    "    def __init__(self1, model1, trainset1, testset1, data1):\n",
    "        self1.model1 = model1\n",
    "        self1.trainset1 = trainset1\n",
    "        self1.testset1 = testset1\n",
    "        self1.data1 = data1\n",
    "        self1.pred_test1 = None\n",
    "        self1.recommendations1 = None\n",
    "        self1.top_n1 = None\n",
    "        self1.recommenddf1 = None\n",
    "\n",
    "# Model fit and predict        \n",
    "    def fit_and_predict_user(self1):        \n",
    "        printmd('**Fitting the train data...**', color='blue')\n",
    "        self1.model1.fit(self1.trainset1)       \n",
    "\n",
    "        printmd('**Predicting the test data...**', color='blue')\n",
    "        self1.pred_test1 = self1.model1.test(self1.testset1)        \n",
    "        rmse1 = round(accuracy.rmse(self1.pred_test1), 3)\n",
    "        printmd('**RMSE for the predicted result is ' + str(rmse1) + '**', color='blue')   \n",
    "        \n",
    "        self1.top_n1 = get_top_n1(self1.pred_test1)\n",
    "        self1.recommenddf1 = pd.DataFrame(columns=['author', 'product', 'score'])\n",
    "        for item1 in self1.top_n1:\n",
    "            subdf1 = pd.DataFrame(self1.top_n1[item1], columns=['author', 'score'])\n",
    "#             print(subdf1)\n",
    "#             print('Here1')\n",
    "            subdf1['product'] = item1\n",
    "            cols = subdf1.columns.tolist()\n",
    "#             print(cols)\n",
    "            cols = cols[-1:] + cols[:-1]\n",
    "            subdf1 = subdf1[cols]   \n",
    "#             print(subdf1)\n",
    "#             print('Here2')\n",
    "            subdf_y = subdf1.drop_duplicates(subset=['author', 'score'], keep='first', inplace=False, ignore_index=False)\n",
    "            subdf_y = subdf_y.reset_index(drop=True)\n",
    "#             print(subdf_y)\n",
    "#             print('here3')\n",
    "            self1.recommenddf1 = pd.concat([self1.recommenddf1, subdf_y], axis = 0)        \n",
    "        return rmse1\n",
    "\n",
    "# Cross validate to get better results\n",
    "    def cross_validate1(self1):\n",
    "        printmd('**Cross Validating the data...**', color='blue')\n",
    "        cv_result1 = cross_validate(self1.model1, self1.data1, n_jobs=-1)\n",
    "        cv_result1 = round(cv_result1['test_rmse'].mean(),3)\n",
    "        printmd('**Mean CV RMSE is ' + str(cv_result1)  + '**', color='blue')\n",
    "        return cv_result1\n",
    "\n",
    "# Recommending products   \n",
    "    def recommend_user(self1, prod_name, n=10000):\n",
    "        printmd('**Recommending top users for product ' + prod_name + ' :**', color='blue')\n",
    "        \n",
    "        df_u = self1.recommenddf1[self1.recommenddf1['product'] == prod_name].head(n)\n",
    "#         df_x = df.drop_duplicates(subset=['author', 'product', 'score'], keep='first', inplace=False, ignore_index=False)\n",
    "        display(df_u)\n",
    "#         display('here')\n",
    "        return df_u"
   ]
  },
  {
   "cell_type": "code",
   "execution_count": 273,
   "metadata": {},
   "outputs": [],
   "source": [
    "# Finding the best model using Random search or Grid search (Grid search comparitively takes more time)\n",
    "\n",
    "def find_best_model1(model1, parameters1, data1):\n",
    "    clf1 = RandomizedSearchCV(model1, parameters1, n_jobs=-1, measures=['rmse'])\n",
    "#     clf = GridSearchCV(model, parameters, measures=[\"rmse\", \"mae\"], cv=3)\n",
    "    clf1.fit(data1)             \n",
    "    print(clf1.best_score)\n",
    "    print(clf1.best_params)\n",
    "    print(clf1.best_estimator)\n",
    "    return clf1"
   ]
  },
  {
   "cell_type": "code",
   "execution_count": 274,
   "metadata": {},
   "outputs": [
    {
     "name": "stdout",
     "output_type": "stream",
     "text": [
      "{'rmse': 1.7973725389338842}\n",
      "{'rmse': {'n_epochs': 25, 'lr_all': 0.002, 'reg_all': 0.4}}\n",
      "{'rmse': <surprise.prediction_algorithms.matrix_factorization.SVD object at 0x0000022294B81280>}\n"
     ]
    }
   ],
   "source": [
    "# Giving parameters for search CV to find best model\n",
    "params1= {\n",
    "    \"n_epochs\": [5, 10, 15, 20, 25],\n",
    "    \"lr_all\": [0.002, 0.005, 0.01, 0.02],\n",
    "    \"reg_all\": [0.2, 0.4, 0.6, 0.8, 1]\n",
    "    }\n",
    "clf1 = find_best_model1(SVD, params1, surprise_df)"
   ]
  },
  {
   "cell_type": "code",
   "execution_count": 275,
   "metadata": {},
   "outputs": [],
   "source": [
    "# Giving inputs to recommender\n",
    "svd1 = clf1.best_estimator['rmse']\n",
    "col_fil_svd1 = collab_filtering_based_recommender1(svd1, trainset, testset, surprise_df)"
   ]
  },
  {
   "cell_type": "code",
   "execution_count": 276,
   "metadata": {},
   "outputs": [
    {
     "data": {
      "text/markdown": [
       "<span style='color:blue'>**Fitting the train data...**</span>"
      ],
      "text/plain": [
       "<IPython.core.display.Markdown object>"
      ]
     },
     "metadata": {},
     "output_type": "display_data"
    },
    {
     "data": {
      "text/markdown": [
       "<span style='color:blue'>**Predicting the test data...**</span>"
      ],
      "text/plain": [
       "<IPython.core.display.Markdown object>"
      ]
     },
     "metadata": {},
     "output_type": "display_data"
    },
    {
     "name": "stdout",
     "output_type": "stream",
     "text": [
      "RMSE: 1.8213\n"
     ]
    },
    {
     "data": {
      "text/markdown": [
       "<span style='color:blue'>**RMSE for the predicted result is 1.821**</span>"
      ],
      "text/plain": [
       "<IPython.core.display.Markdown object>"
      ]
     },
     "metadata": {},
     "output_type": "display_data"
    }
   ],
   "source": [
    "# Calculating RMSE\n",
    "svd_rmse1 = col_fil_svd1.fit_and_predict_user()"
   ]
  },
  {
   "cell_type": "code",
   "execution_count": 277,
   "metadata": {},
   "outputs": [
    {
     "data": {
      "text/markdown": [
       "<span style='color:blue'>**Cross Validating the data...**</span>"
      ],
      "text/plain": [
       "<IPython.core.display.Markdown object>"
      ]
     },
     "metadata": {},
     "output_type": "display_data"
    },
    {
     "data": {
      "text/markdown": [
       "<span style='color:blue'>**Mean CV RMSE is 1.795**</span>"
      ],
      "text/plain": [
       "<IPython.core.display.Markdown object>"
      ]
     },
     "metadata": {},
     "output_type": "display_data"
    }
   ],
   "source": [
    "#cross validate\n",
    "svd_cv_rmse1 = col_fil_svd1.cross_validate1()"
   ]
  },
  {
   "cell_type": "code",
   "execution_count": 278,
   "metadata": {},
   "outputs": [
    {
     "data": {
      "text/markdown": [
       "<span style='color:blue'>**Recommending top users for product Apple iPhone 7 4,7\" 32 GB :**</span>"
      ],
      "text/plain": [
       "<IPython.core.display.Markdown object>"
      ]
     },
     "metadata": {},
     "output_type": "display_data"
    },
    {
     "data": {
      "text/html": [
       "<div>\n",
       "<style scoped>\n",
       "    .dataframe tbody tr th:only-of-type {\n",
       "        vertical-align: middle;\n",
       "    }\n",
       "\n",
       "    .dataframe tbody tr th {\n",
       "        vertical-align: top;\n",
       "    }\n",
       "\n",
       "    .dataframe thead th {\n",
       "        text-align: right;\n",
       "    }\n",
       "</style>\n",
       "<table border=\"1\" class=\"dataframe\">\n",
       "  <thead>\n",
       "    <tr style=\"text-align: right;\">\n",
       "      <th></th>\n",
       "      <th>author</th>\n",
       "      <th>product</th>\n",
       "      <th>score</th>\n",
       "    </tr>\n",
       "  </thead>\n",
       "  <tbody>\n",
       "    <tr>\n",
       "      <th>0</th>\n",
       "      <td>einem Kunden</td>\n",
       "      <td>Apple iPhone 7 4,7\" 32 GB</td>\n",
       "      <td>9.613368</td>\n",
       "    </tr>\n",
       "    <tr>\n",
       "      <th>1</th>\n",
       "      <td>einer Kundin</td>\n",
       "      <td>Apple iPhone 7 4,7\" 32 GB</td>\n",
       "      <td>9.512090</td>\n",
       "    </tr>\n",
       "  </tbody>\n",
       "</table>\n",
       "</div>"
      ],
      "text/plain": [
       "         author                    product     score\n",
       "0  einem Kunden  Apple iPhone 7 4,7\" 32 GB  9.613368\n",
       "1  einer Kundin  Apple iPhone 7 4,7\" 32 GB  9.512090"
      ]
     },
     "metadata": {},
     "output_type": "display_data"
    },
    {
     "data": {
      "text/markdown": [
       "<span style='color:blue'>**Recommending top users for product Smartphone Samsung Galaxy Gran Prime TV SM-G530 :**</span>"
      ],
      "text/plain": [
       "<IPython.core.display.Markdown object>"
      ]
     },
     "metadata": {},
     "output_type": "display_data"
    },
    {
     "data": {
      "text/html": [
       "<div>\n",
       "<style scoped>\n",
       "    .dataframe tbody tr th:only-of-type {\n",
       "        vertical-align: middle;\n",
       "    }\n",
       "\n",
       "    .dataframe tbody tr th {\n",
       "        vertical-align: top;\n",
       "    }\n",
       "\n",
       "    .dataframe thead th {\n",
       "        text-align: right;\n",
       "    }\n",
       "</style>\n",
       "<table border=\"1\" class=\"dataframe\">\n",
       "  <thead>\n",
       "    <tr style=\"text-align: right;\">\n",
       "      <th></th>\n",
       "      <th>author</th>\n",
       "      <th>product</th>\n",
       "      <th>score</th>\n",
       "    </tr>\n",
       "  </thead>\n",
       "  <tbody>\n",
       "    <tr>\n",
       "      <th>0</th>\n",
       "      <td>e-bit</td>\n",
       "      <td>Smartphone Samsung Galaxy Gran Prime TV SM-G530</td>\n",
       "      <td>9.019767</td>\n",
       "    </tr>\n",
       "  </tbody>\n",
       "</table>\n",
       "</div>"
      ],
      "text/plain": [
       "  author                                          product     score\n",
       "0  e-bit  Smartphone Samsung Galaxy Gran Prime TV SM-G530  9.019767"
      ]
     },
     "metadata": {},
     "output_type": "display_data"
    },
    {
     "data": {
      "text/markdown": [
       "<span style='color:blue'>**Recommending top users for product Apple iPhone 6s 4,7\" 128 GB :**</span>"
      ],
      "text/plain": [
       "<IPython.core.display.Markdown object>"
      ]
     },
     "metadata": {},
     "output_type": "display_data"
    },
    {
     "data": {
      "text/html": [
       "<div>\n",
       "<style scoped>\n",
       "    .dataframe tbody tr th:only-of-type {\n",
       "        vertical-align: middle;\n",
       "    }\n",
       "\n",
       "    .dataframe tbody tr th {\n",
       "        vertical-align: top;\n",
       "    }\n",
       "\n",
       "    .dataframe thead th {\n",
       "        text-align: right;\n",
       "    }\n",
       "</style>\n",
       "<table border=\"1\" class=\"dataframe\">\n",
       "  <thead>\n",
       "    <tr style=\"text-align: right;\">\n",
       "      <th></th>\n",
       "      <th>author</th>\n",
       "      <th>product</th>\n",
       "      <th>score</th>\n",
       "    </tr>\n",
       "  </thead>\n",
       "  <tbody>\n",
       "    <tr>\n",
       "      <th>0</th>\n",
       "      <td>einem Kunden</td>\n",
       "      <td>Apple iPhone 6s 4,7\" 128 GB</td>\n",
       "      <td>9.673943</td>\n",
       "    </tr>\n",
       "    <tr>\n",
       "      <th>1</th>\n",
       "      <td>einer Kundin</td>\n",
       "      <td>Apple iPhone 6s 4,7\" 128 GB</td>\n",
       "      <td>9.572771</td>\n",
       "    </tr>\n",
       "  </tbody>\n",
       "</table>\n",
       "</div>"
      ],
      "text/plain": [
       "         author                      product     score\n",
       "0  einem Kunden  Apple iPhone 6s 4,7\" 128 GB  9.673943\n",
       "1  einer Kundin  Apple iPhone 6s 4,7\" 128 GB  9.572771"
      ]
     },
     "metadata": {},
     "output_type": "display_data"
    }
   ],
   "source": [
    "# Recommend\n",
    "result_svd_prod1 = col_fil_svd1.recommend_user(prod_name='Apple iPhone 7 4,7\" 32 GB', n=5)\n",
    "result_svd_prod2 = col_fil_svd1.recommend_user(prod_name='Smartphone Samsung Galaxy Gran Prime TV SM-G530', n=5)\n",
    "result_svd_prod3 = col_fil_svd1.recommend_user(prod_name='Apple iPhone 6s 4,7\" 128 GB', n=5)"
   ]
  },
  {
   "cell_type": "code",
   "execution_count": 279,
   "metadata": {},
   "outputs": [
    {
     "name": "stdout",
     "output_type": "stream",
     "text": [
      "{'rmse': 1.7931765641884632}\n",
      "{'rmse': {'k': 48, 'sim_options': {'name': 'pearson', 'min_support': 4, 'user_based': False}}}\n",
      "{'rmse': <surprise.prediction_algorithms.knns.KNNWithMeans object at 0x000002228F188970>}\n"
     ]
    }
   ],
   "source": [
    "sim_options1 = {\n",
    "    \"name\": [\"msd\", \"cosine\", \"pearson\", \"pearson_baseline\"],\n",
    "    \"min_support\": [3, 4, 5],\n",
    "    \"user_based\": [False],\n",
    "}\n",
    "params = { 'k': range(30,50,1), 'sim_options': sim_options1}\n",
    "clf1 = find_best_model1(KNNWithMeans, params, surprise_df)"
   ]
  },
  {
   "cell_type": "code",
   "execution_count": 280,
   "metadata": {},
   "outputs": [],
   "source": [
    "knnwithmeans1 = clf1.best_estimator['rmse']\n",
    "col_fil_knnwithmeans1 = collab_filtering_based_recommender1(knnwithmeans1, trainset, testset, surprise_df)"
   ]
  },
  {
   "cell_type": "code",
   "execution_count": 281,
   "metadata": {},
   "outputs": [
    {
     "data": {
      "text/markdown": [
       "<span style='color:blue'>**Fitting the train data...**</span>"
      ],
      "text/plain": [
       "<IPython.core.display.Markdown object>"
      ]
     },
     "metadata": {},
     "output_type": "display_data"
    },
    {
     "name": "stdout",
     "output_type": "stream",
     "text": [
      "Computing the pearson similarity matrix...\n",
      "Done computing similarity matrix.\n"
     ]
    },
    {
     "data": {
      "text/markdown": [
       "<span style='color:blue'>**Predicting the test data...**</span>"
      ],
      "text/plain": [
       "<IPython.core.display.Markdown object>"
      ]
     },
     "metadata": {},
     "output_type": "display_data"
    },
    {
     "name": "stdout",
     "output_type": "stream",
     "text": [
      "RMSE: 1.8330\n"
     ]
    },
    {
     "data": {
      "text/markdown": [
       "<span style='color:blue'>**RMSE for the predicted result is 1.833**</span>"
      ],
      "text/plain": [
       "<IPython.core.display.Markdown object>"
      ]
     },
     "metadata": {},
     "output_type": "display_data"
    }
   ],
   "source": [
    "knnwithmeans_rmse1 = col_fil_knnwithmeans1.fit_and_predict_user()"
   ]
  },
  {
   "cell_type": "code",
   "execution_count": 282,
   "metadata": {},
   "outputs": [
    {
     "data": {
      "text/markdown": [
       "<span style='color:blue'>**Cross Validating the data...**</span>"
      ],
      "text/plain": [
       "<IPython.core.display.Markdown object>"
      ]
     },
     "metadata": {},
     "output_type": "display_data"
    },
    {
     "data": {
      "text/markdown": [
       "<span style='color:blue'>**Mean CV RMSE is 1.799**</span>"
      ],
      "text/plain": [
       "<IPython.core.display.Markdown object>"
      ]
     },
     "metadata": {},
     "output_type": "display_data"
    }
   ],
   "source": [
    "knnwithmeans_cv_rmse1 = col_fil_knnwithmeans1.cross_validate1()"
   ]
  },
  {
   "cell_type": "code",
   "execution_count": 283,
   "metadata": {},
   "outputs": [
    {
     "data": {
      "text/markdown": [
       "<span style='color:blue'>**Recommending top users for product Apple iPhone 7 4,7\" 32 GB :**</span>"
      ],
      "text/plain": [
       "<IPython.core.display.Markdown object>"
      ]
     },
     "metadata": {},
     "output_type": "display_data"
    },
    {
     "data": {
      "text/html": [
       "<div>\n",
       "<style scoped>\n",
       "    .dataframe tbody tr th:only-of-type {\n",
       "        vertical-align: middle;\n",
       "    }\n",
       "\n",
       "    .dataframe tbody tr th {\n",
       "        vertical-align: top;\n",
       "    }\n",
       "\n",
       "    .dataframe thead th {\n",
       "        text-align: right;\n",
       "    }\n",
       "</style>\n",
       "<table border=\"1\" class=\"dataframe\">\n",
       "  <thead>\n",
       "    <tr style=\"text-align: right;\">\n",
       "      <th></th>\n",
       "      <th>author</th>\n",
       "      <th>product</th>\n",
       "      <th>score</th>\n",
       "    </tr>\n",
       "  </thead>\n",
       "  <tbody>\n",
       "    <tr>\n",
       "      <th>0</th>\n",
       "      <td>einer Kundin</td>\n",
       "      <td>Apple iPhone 7 4,7\" 32 GB</td>\n",
       "      <td>9.916667</td>\n",
       "    </tr>\n",
       "    <tr>\n",
       "      <th>1</th>\n",
       "      <td>einem Kunden</td>\n",
       "      <td>Apple iPhone 7 4,7\" 32 GB</td>\n",
       "      <td>9.708333</td>\n",
       "    </tr>\n",
       "  </tbody>\n",
       "</table>\n",
       "</div>"
      ],
      "text/plain": [
       "         author                    product     score\n",
       "0  einer Kundin  Apple iPhone 7 4,7\" 32 GB  9.916667\n",
       "1  einem Kunden  Apple iPhone 7 4,7\" 32 GB  9.708333"
      ]
     },
     "metadata": {},
     "output_type": "display_data"
    },
    {
     "data": {
      "text/markdown": [
       "<span style='color:blue'>**Recommending top users for product Smartphone Samsung Galaxy Gran Prime TV SM-G530 :**</span>"
      ],
      "text/plain": [
       "<IPython.core.display.Markdown object>"
      ]
     },
     "metadata": {},
     "output_type": "display_data"
    },
    {
     "data": {
      "text/html": [
       "<div>\n",
       "<style scoped>\n",
       "    .dataframe tbody tr th:only-of-type {\n",
       "        vertical-align: middle;\n",
       "    }\n",
       "\n",
       "    .dataframe tbody tr th {\n",
       "        vertical-align: top;\n",
       "    }\n",
       "\n",
       "    .dataframe thead th {\n",
       "        text-align: right;\n",
       "    }\n",
       "</style>\n",
       "<table border=\"1\" class=\"dataframe\">\n",
       "  <thead>\n",
       "    <tr style=\"text-align: right;\">\n",
       "      <th></th>\n",
       "      <th>author</th>\n",
       "      <th>product</th>\n",
       "      <th>score</th>\n",
       "    </tr>\n",
       "  </thead>\n",
       "  <tbody>\n",
       "    <tr>\n",
       "      <th>0</th>\n",
       "      <td>e-bit</td>\n",
       "      <td>Smartphone Samsung Galaxy Gran Prime TV SM-G530</td>\n",
       "      <td>9.0</td>\n",
       "    </tr>\n",
       "  </tbody>\n",
       "</table>\n",
       "</div>"
      ],
      "text/plain": [
       "  author                                          product  score\n",
       "0  e-bit  Smartphone Samsung Galaxy Gran Prime TV SM-G530    9.0"
      ]
     },
     "metadata": {},
     "output_type": "display_data"
    },
    {
     "data": {
      "text/markdown": [
       "<span style='color:blue'>**Recommending top users for product Apple iPhone 6s 4,7\" 128 GB :**</span>"
      ],
      "text/plain": [
       "<IPython.core.display.Markdown object>"
      ]
     },
     "metadata": {},
     "output_type": "display_data"
    },
    {
     "data": {
      "text/html": [
       "<div>\n",
       "<style scoped>\n",
       "    .dataframe tbody tr th:only-of-type {\n",
       "        vertical-align: middle;\n",
       "    }\n",
       "\n",
       "    .dataframe tbody tr th {\n",
       "        vertical-align: top;\n",
       "    }\n",
       "\n",
       "    .dataframe thead th {\n",
       "        text-align: right;\n",
       "    }\n",
       "</style>\n",
       "<table border=\"1\" class=\"dataframe\">\n",
       "  <thead>\n",
       "    <tr style=\"text-align: right;\">\n",
       "      <th></th>\n",
       "      <th>author</th>\n",
       "      <th>product</th>\n",
       "      <th>score</th>\n",
       "    </tr>\n",
       "  </thead>\n",
       "  <tbody>\n",
       "    <tr>\n",
       "      <th>0</th>\n",
       "      <td>einem Kunden</td>\n",
       "      <td>Apple iPhone 6s 4,7\" 128 GB</td>\n",
       "      <td>9.875000</td>\n",
       "    </tr>\n",
       "    <tr>\n",
       "      <th>1</th>\n",
       "      <td>einer Kundin</td>\n",
       "      <td>Apple iPhone 6s 4,7\" 128 GB</td>\n",
       "      <td>9.833333</td>\n",
       "    </tr>\n",
       "  </tbody>\n",
       "</table>\n",
       "</div>"
      ],
      "text/plain": [
       "         author                      product     score\n",
       "0  einem Kunden  Apple iPhone 6s 4,7\" 128 GB  9.875000\n",
       "1  einer Kundin  Apple iPhone 6s 4,7\" 128 GB  9.833333"
      ]
     },
     "metadata": {},
     "output_type": "display_data"
    }
   ],
   "source": [
    "result_knn_user1 = col_fil_knnwithmeans1.recommend_user(prod_name='Apple iPhone 7 4,7\" 32 GB', n=5)\n",
    "result_knn_user2 = col_fil_knnwithmeans1.recommend_user(prod_name='Smartphone Samsung Galaxy Gran Prime TV SM-G530', n=5)\n",
    "result_knn_user3 = col_fil_knnwithmeans1.recommend_user(prod_name='Apple iPhone 6s 4,7\" 128 GB', n=5)"
   ]
  },
  {
   "cell_type": "markdown",
   "metadata": {},
   "source": [
    "We have used collaborative recommendation (SVD - Model based approach and KNN with means - Memory based approach) for both user-user based and item-item based recommendations. The observations are that we got similar results and RMSE values using both Model based and Memory based approach. Let us try to remove outliers and cross validate to improve the results. In item-item based approach we got only few recommendations since most products were bought by unique users."
   ]
  },
  {
   "cell_type": "markdown",
   "metadata": {},
   "source": [
    "Let's check outliers in score column using box plot."
   ]
  },
  {
   "cell_type": "code",
   "execution_count": 284,
   "metadata": {},
   "outputs": [
    {
     "data": {
      "image/png": "[encoded data removed]",
      "text/plain": [
       "<Figure size 720x360 with 1 Axes>"
      ]
     },
     "metadata": {
      "needs_background": "light"
     },
     "output_type": "display_data"
    }
   ],
   "source": [
    "plt.figure(figsize= (10,5));\n",
    "\n",
    "# plt.subplot(1,1,1);\n",
    "sns.boxplot(df_fin['score'],orient='v');"
   ]
  },
  {
   "cell_type": "markdown",
   "metadata": {},
   "source": [
    "From the above plot we can observe that there are outliers towards lower bound after value 6. Let us treat this outliers and check the results again."
   ]
  },
  {
   "cell_type": "markdown",
   "metadata": {},
   "source": [
    "Using IQR, we can follow the below approach to replace the outliers with a NULL value and later impute them:\n",
    "- Calculate the first and third quartile (Q1 and Q3).\n",
    "- Further, evaluate the interquartile range, IQR = Q3-Q1.\n",
    "- Estimate the lower bound, the lower bound = Q1*1.5\n",
    "- Estimate the upper bound, upper bound = Q3*1.5\n",
    "- Replace the data points that lie outside of the lower and the upper bound with a NULL value."
   ]
  },
  {
   "cell_type": "code",
   "execution_count": 285,
   "metadata": {},
   "outputs": [],
   "source": [
    "for x in ['score']:\n",
    "    q75,q25 = np.percentile(df_fin.loc[:,x],[75,25])\n",
    "    intr_qr = q75-q25\n",
    " \n",
    "    max = q75+(1.5*intr_qr)\n",
    "    min = q25-(1.5*intr_qr)\n",
    " \n",
    "    df_fin.loc[df_fin[x] < min,x] = np.nan\n",
    "    df_fin.loc[df_fin[x] > max,x] = np.nan"
   ]
  },
  {
   "cell_type": "markdown",
   "metadata": {},
   "source": [
    "After calculating Q1 and Q3, we have replaced the outliers with null values. Having replaced the outliers with null values, let us now check the sum of null values or missing values using the below code:"
   ]
  },
  {
   "cell_type": "code",
   "execution_count": 286,
   "metadata": {},
   "outputs": [
    {
     "data": {
      "text/plain": [
       "date         0\n",
       "lang         0\n",
       "country      0\n",
       "source       0\n",
       "score      367\n",
       "author       0\n",
       "product      0\n",
       "dtype: int64"
      ]
     },
     "execution_count": 286,
     "metadata": {},
     "output_type": "execute_result"
    }
   ],
   "source": [
    "df_fin.isnull().sum()"
   ]
  },
  {
   "cell_type": "markdown",
   "metadata": {},
   "source": [
    "We will impute null values using KNN imputer. KNN imputer can be more accurate than the mean, median or mode imputation methods. Since we are dealing with relatively small dataset computational speed is negligible."
   ]
  },
  {
   "cell_type": "code",
   "execution_count": 287,
   "metadata": {},
   "outputs": [
    {
     "name": "stdout",
     "output_type": "stream",
     "text": [
      "Count of NULL values after imputation\n",
      "\n"
     ]
    },
    {
     "data": {
      "text/plain": [
       "date       0\n",
       "lang       0\n",
       "country    0\n",
       "source     0\n",
       "score      0\n",
       "author     0\n",
       "product    0\n",
       "dtype: int64"
      ]
     },
     "execution_count": 287,
     "metadata": {},
     "output_type": "execute_result"
    }
   ],
   "source": [
    "null_col = ['score']\n",
    "\n",
    "#Technique 2: Using median to impute the missing values\n",
    "for i in null_col:\n",
    " df_fin.loc[df_fin.loc[:,i].isnull(),i]=df_fin.loc[:,i].median()\n",
    "\n",
    "print(\"Count of NULL values after imputation\\n\")\n",
    "df_fin.isnull().sum()"
   ]
  },
  {
   "cell_type": "code",
   "execution_count": 288,
   "metadata": {},
   "outputs": [
    {
     "data": {
      "image/png": "[encoded data removed]",
      "text/plain": [
       "<Figure size 720x360 with 1 Axes>"
      ]
     },
     "metadata": {
      "needs_background": "light"
     },
     "output_type": "display_data"
    }
   ],
   "source": [
    "plt.figure(figsize= (10,5));\n",
    "\n",
    "# plt.subplot(1,1,1);\n",
    "sns.boxplot(df_fin['score'],orient='v');"
   ]
  },
  {
   "cell_type": "markdown",
   "metadata": {},
   "source": [
    "Let us again apply SVD on our new dataset in which outliers are replaced with median."
   ]
  },
  {
   "cell_type": "code",
   "execution_count": 289,
   "metadata": {},
   "outputs": [
    {
     "data": {
      "text/html": [
       "<div>\n",
       "<style scoped>\n",
       "    .dataframe tbody tr th:only-of-type {\n",
       "        vertical-align: middle;\n",
       "    }\n",
       "\n",
       "    .dataframe tbody tr th {\n",
       "        vertical-align: top;\n",
       "    }\n",
       "\n",
       "    .dataframe thead th {\n",
       "        text-align: right;\n",
       "    }\n",
       "</style>\n",
       "<table border=\"1\" class=\"dataframe\">\n",
       "  <thead>\n",
       "    <tr style=\"text-align: right;\">\n",
       "      <th></th>\n",
       "      <th>author</th>\n",
       "      <th>product</th>\n",
       "      <th>score</th>\n",
       "    </tr>\n",
       "  </thead>\n",
       "  <tbody>\n",
       "    <tr>\n",
       "      <th>0</th>\n",
       "      <td>Cliente Amazon</td>\n",
       "      <td>Huawei P9 Lite Smartphone, LTE, Display 5.2'' ...</td>\n",
       "      <td>10.0</td>\n",
       "    </tr>\n",
       "    <tr>\n",
       "      <th>1</th>\n",
       "      <td>einem Kunden</td>\n",
       "      <td>Samsung Galaxy A3 (2016) - A310F Smartphone, 1...</td>\n",
       "      <td>10.0</td>\n",
       "    </tr>\n",
       "    <tr>\n",
       "      <th>2</th>\n",
       "      <td>Cliente Amazon</td>\n",
       "      <td>Lenovo Motorola Moto G 4G 3 Generazione Smartp...</td>\n",
       "      <td>10.0</td>\n",
       "    </tr>\n",
       "    <tr>\n",
       "      <th>3</th>\n",
       "      <td>einem Kunden</td>\n",
       "      <td>Apple iPhone 6s 4,7\" 128 GB</td>\n",
       "      <td>10.0</td>\n",
       "    </tr>\n",
       "    <tr>\n",
       "      <th>4</th>\n",
       "      <td>einem Kunden</td>\n",
       "      <td>Samsung Galaxy A3 (2016) - A310F Smartphone, 1...</td>\n",
       "      <td>10.0</td>\n",
       "    </tr>\n",
       "  </tbody>\n",
       "</table>\n",
       "</div>"
      ],
      "text/plain": [
       "           author                                            product  score\n",
       "0  Cliente Amazon  Huawei P9 Lite Smartphone, LTE, Display 5.2'' ...   10.0\n",
       "1    einem Kunden  Samsung Galaxy A3 (2016) - A310F Smartphone, 1...   10.0\n",
       "2  Cliente Amazon  Lenovo Motorola Moto G 4G 3 Generazione Smartp...   10.0\n",
       "3    einem Kunden                        Apple iPhone 6s 4,7\" 128 GB   10.0\n",
       "4    einem Kunden  Samsung Galaxy A3 (2016) - A310F Smartphone, 1...   10.0"
      ]
     },
     "execution_count": 289,
     "metadata": {},
     "output_type": "execute_result"
    }
   ],
   "source": [
    "# Let's keep only auhtor, product and score columns in our dataset.\n",
    "df_3col = df_fin.filter(['author','product','score'])\n",
    "df_3col.head()"
   ]
  },
  {
   "cell_type": "code",
   "execution_count": 290,
   "metadata": {},
   "outputs": [],
   "source": [
    "surprise_data = Dataset.load_from_df(df_3col, reader)\n",
    "\n",
    "# Split the data into train and test\n",
    "trainset_or, testset_or = train_test_split(surprise_data, test_size=0.3, random_state=10)"
   ]
  },
  {
   "cell_type": "code",
   "execution_count": 291,
   "metadata": {},
   "outputs": [
    {
     "name": "stdout",
     "output_type": "stream",
     "text": [
      "{'rmse': 1.096768207730904}\n",
      "{'rmse': {'n_epochs': 10, 'lr_all': 0.002, 'reg_all': 0.2}}\n",
      "{'rmse': <surprise.prediction_algorithms.matrix_factorization.SVD object at 0x000002228F1FBF40>}\n"
     ]
    }
   ],
   "source": [
    "# Giving parameters for search CV to find best model\n",
    "params= {\n",
    "    \"n_epochs\": [5, 10, 15, 20, 25],\n",
    "    \"lr_all\": [0.002, 0.005, 0.01, 0.02],\n",
    "    \"reg_all\": [0.2, 0.4, 0.6, 0.8, 1]\n",
    "    }\n",
    "clf_or = find_best_model(SVD, params, surprise_data)"
   ]
  },
  {
   "cell_type": "code",
   "execution_count": 292,
   "metadata": {},
   "outputs": [],
   "source": [
    "# Giving inputs to recommender\n",
    "svd_or = clf_or.best_estimator['rmse']\n",
    "col_fil_svd_or = collab_filtering_based_recommender(svd_or, trainset_or, testset_or, surprise_data)"
   ]
  },
  {
   "cell_type": "code",
   "execution_count": 293,
   "metadata": {},
   "outputs": [
    {
     "data": {
      "text/markdown": [
       "<span style='color:blue'>**Fitting the train data...**</span>"
      ],
      "text/plain": [
       "<IPython.core.display.Markdown object>"
      ]
     },
     "metadata": {},
     "output_type": "display_data"
    },
    {
     "data": {
      "text/markdown": [
       "<span style='color:blue'>**Predicting the test data...**</span>"
      ],
      "text/plain": [
       "<IPython.core.display.Markdown object>"
      ]
     },
     "metadata": {},
     "output_type": "display_data"
    },
    {
     "name": "stdout",
     "output_type": "stream",
     "text": [
      "RMSE: 1.1199\n"
     ]
    },
    {
     "data": {
      "text/markdown": [
       "<span style='color:blue'>**RMSE for the predicted result is 1.12**</span>"
      ],
      "text/plain": [
       "<IPython.core.display.Markdown object>"
      ]
     },
     "metadata": {},
     "output_type": "display_data"
    }
   ],
   "source": [
    "# Calculating RMSE\n",
    "svd_rmse_or = col_fil_svd_or.fit_and_predict_product()"
   ]
  },
  {
   "cell_type": "code",
   "execution_count": 294,
   "metadata": {},
   "outputs": [
    {
     "data": {
      "text/markdown": [
       "<span style='color:blue'>**Cross Validating the data...**</span>"
      ],
      "text/plain": [
       "<IPython.core.display.Markdown object>"
      ]
     },
     "metadata": {},
     "output_type": "display_data"
    },
    {
     "data": {
      "text/markdown": [
       "<span style='color:blue'>**Mean CV RMSE is 1.095**</span>"
      ],
      "text/plain": [
       "<IPython.core.display.Markdown object>"
      ]
     },
     "metadata": {},
     "output_type": "display_data"
    }
   ],
   "source": [
    "#cross validate\n",
    "svd_cv_rmse_or = col_fil_svd_or.cross_validate()"
   ]
  },
  {
   "cell_type": "markdown",
   "metadata": {},
   "source": [
    "The mean RMSE has improved a lot after using dataset in which outliers are imputed using median and cross validated. 1.09 seems to be a good RMSE value for our dataset. Let us now recommend top 5 products for users."
   ]
  },
  {
   "cell_type": "code",
   "execution_count": 295,
   "metadata": {},
   "outputs": [
    {
     "data": {
      "text/markdown": [
       "<span style='color:blue'>**Recommending top 5 products for user e-bit :**</span>"
      ],
      "text/plain": [
       "<IPython.core.display.Markdown object>"
      ]
     },
     "metadata": {},
     "output_type": "display_data"
    },
    {
     "data": {
      "text/html": [
       "<div>\n",
       "<style scoped>\n",
       "    .dataframe tbody tr th:only-of-type {\n",
       "        vertical-align: middle;\n",
       "    }\n",
       "\n",
       "    .dataframe tbody tr th {\n",
       "        vertical-align: top;\n",
       "    }\n",
       "\n",
       "    .dataframe thead th {\n",
       "        text-align: right;\n",
       "    }\n",
       "</style>\n",
       "<table border=\"1\" class=\"dataframe\">\n",
       "  <thead>\n",
       "    <tr style=\"text-align: right;\">\n",
       "      <th></th>\n",
       "      <th>author</th>\n",
       "      <th>product</th>\n",
       "      <th>score</th>\n",
       "    </tr>\n",
       "  </thead>\n",
       "  <tbody>\n",
       "    <tr>\n",
       "      <th>0</th>\n",
       "      <td>e-bit</td>\n",
       "      <td>Smartphone LG G2 D805</td>\n",
       "      <td>9.598906</td>\n",
       "    </tr>\n",
       "    <tr>\n",
       "      <th>1</th>\n",
       "      <td>e-bit</td>\n",
       "      <td>Smartphone Asus ZenFone 3 ZE552KL</td>\n",
       "      <td>9.510458</td>\n",
       "    </tr>\n",
       "    <tr>\n",
       "      <th>2</th>\n",
       "      <td>e-bit</td>\n",
       "      <td>Smartphone Apple iPhone 6 16GB</td>\n",
       "      <td>9.491189</td>\n",
       "    </tr>\n",
       "    <tr>\n",
       "      <th>3</th>\n",
       "      <td>e-bit</td>\n",
       "      <td>Smartphone Samsung Galaxy S7 SM-G930 32GB</td>\n",
       "      <td>9.458195</td>\n",
       "    </tr>\n",
       "    <tr>\n",
       "      <th>4</th>\n",
       "      <td>e-bit</td>\n",
       "      <td>Smartphone Motorola Moto X 2Âª GeraÃ§Ã£o XT109...</td>\n",
       "      <td>9.457791</td>\n",
       "    </tr>\n",
       "  </tbody>\n",
       "</table>\n",
       "</div>"
      ],
      "text/plain": [
       "  author                                            product     score\n",
       "0  e-bit                              Smartphone LG G2 D805  9.598906\n",
       "1  e-bit                  Smartphone Asus ZenFone 3 ZE552KL  9.510458\n",
       "2  e-bit                     Smartphone Apple iPhone 6 16GB  9.491189\n",
       "3  e-bit          Smartphone Samsung Galaxy S7 SM-G930 32GB  9.458195\n",
       "4  e-bit  Smartphone Motorola Moto X 2Âª GeraÃ§Ã£o XT109...  9.457791"
      ]
     },
     "metadata": {},
     "output_type": "display_data"
    },
    {
     "data": {
      "text/markdown": [
       "<span style='color:blue'>**Recommending top 5 products for user einem Kunden :**</span>"
      ],
      "text/plain": [
       "<IPython.core.display.Markdown object>"
      ]
     },
     "metadata": {},
     "output_type": "display_data"
    },
    {
     "data": {
      "text/html": [
       "<div>\n",
       "<style scoped>\n",
       "    .dataframe tbody tr th:only-of-type {\n",
       "        vertical-align: middle;\n",
       "    }\n",
       "\n",
       "    .dataframe tbody tr th {\n",
       "        vertical-align: top;\n",
       "    }\n",
       "\n",
       "    .dataframe thead th {\n",
       "        text-align: right;\n",
       "    }\n",
       "</style>\n",
       "<table border=\"1\" class=\"dataframe\">\n",
       "  <thead>\n",
       "    <tr style=\"text-align: right;\">\n",
       "      <th></th>\n",
       "      <th>author</th>\n",
       "      <th>product</th>\n",
       "      <th>score</th>\n",
       "    </tr>\n",
       "  </thead>\n",
       "  <tbody>\n",
       "    <tr>\n",
       "      <th>0</th>\n",
       "      <td>einem Kunden</td>\n",
       "      <td>Apple iPhone 6s 4,7\" 128 GB</td>\n",
       "      <td>9.803233</td>\n",
       "    </tr>\n",
       "    <tr>\n",
       "      <th>1</th>\n",
       "      <td>einem Kunden</td>\n",
       "      <td>Apple iPhone 7 4,7\" 32 GB</td>\n",
       "      <td>9.771671</td>\n",
       "    </tr>\n",
       "    <tr>\n",
       "      <th>2</th>\n",
       "      <td>einem Kunden</td>\n",
       "      <td>Samsung Galaxy S7 edge Smartphone, 13,9 cm (5,...</td>\n",
       "      <td>9.755700</td>\n",
       "    </tr>\n",
       "    <tr>\n",
       "      <th>3</th>\n",
       "      <td>einem Kunden</td>\n",
       "      <td>Apple iPhone 6s Plus 5,5\" 128 GB</td>\n",
       "      <td>9.742773</td>\n",
       "    </tr>\n",
       "    <tr>\n",
       "      <th>4</th>\n",
       "      <td>einem Kunden</td>\n",
       "      <td>Apple iPhone 7 Plus 5,5\" 128 GB</td>\n",
       "      <td>9.671321</td>\n",
       "    </tr>\n",
       "  </tbody>\n",
       "</table>\n",
       "</div>"
      ],
      "text/plain": [
       "         author                                            product     score\n",
       "0  einem Kunden                        Apple iPhone 6s 4,7\" 128 GB  9.803233\n",
       "1  einem Kunden                          Apple iPhone 7 4,7\" 32 GB  9.771671\n",
       "2  einem Kunden  Samsung Galaxy S7 edge Smartphone, 13,9 cm (5,...  9.755700\n",
       "3  einem Kunden                   Apple iPhone 6s Plus 5,5\" 128 GB  9.742773\n",
       "4  einem Kunden                    Apple iPhone 7 Plus 5,5\" 128 GB  9.671321"
      ]
     },
     "metadata": {},
     "output_type": "display_data"
    },
    {
     "data": {
      "text/markdown": [
       "<span style='color:blue'>**Recommending top 5 products for user Cliente Amazon :**</span>"
      ],
      "text/plain": [
       "<IPython.core.display.Markdown object>"
      ]
     },
     "metadata": {},
     "output_type": "display_data"
    },
    {
     "data": {
      "text/html": [
       "<div>\n",
       "<style scoped>\n",
       "    .dataframe tbody tr th:only-of-type {\n",
       "        vertical-align: middle;\n",
       "    }\n",
       "\n",
       "    .dataframe tbody tr th {\n",
       "        vertical-align: top;\n",
       "    }\n",
       "\n",
       "    .dataframe thead th {\n",
       "        text-align: right;\n",
       "    }\n",
       "</style>\n",
       "<table border=\"1\" class=\"dataframe\">\n",
       "  <thead>\n",
       "    <tr style=\"text-align: right;\">\n",
       "      <th></th>\n",
       "      <th>author</th>\n",
       "      <th>product</th>\n",
       "      <th>score</th>\n",
       "    </tr>\n",
       "  </thead>\n",
       "  <tbody>\n",
       "    <tr>\n",
       "      <th>0</th>\n",
       "      <td>Cliente Amazon</td>\n",
       "      <td>Samsung G935 Galaxy S7 Edge Smartphone da 32GB...</td>\n",
       "      <td>9.493131</td>\n",
       "    </tr>\n",
       "    <tr>\n",
       "      <th>1</th>\n",
       "      <td>Cliente Amazon</td>\n",
       "      <td>Huawei P9 Lite Smartphone, LTE, Display 5.2'' ...</td>\n",
       "      <td>9.455965</td>\n",
       "    </tr>\n",
       "    <tr>\n",
       "      <th>2</th>\n",
       "      <td>Cliente Amazon</td>\n",
       "      <td>Huawei P9 Lite Smartphone, LTE, Display 5.2'' ...</td>\n",
       "      <td>9.453551</td>\n",
       "    </tr>\n",
       "    <tr>\n",
       "      <th>3</th>\n",
       "      <td>Cliente Amazon</td>\n",
       "      <td>Asus ZE551ML-2A760WW Smartphone ZenFone 2 Delu...</td>\n",
       "      <td>9.438117</td>\n",
       "    </tr>\n",
       "    <tr>\n",
       "      <th>4</th>\n",
       "      <td>Cliente Amazon</td>\n",
       "      <td>Samsung J320 Galaxy J3 (2016) Dual SIM 5\", Qua...</td>\n",
       "      <td>9.282692</td>\n",
       "    </tr>\n",
       "  </tbody>\n",
       "</table>\n",
       "</div>"
      ],
      "text/plain": [
       "           author                                            product     score\n",
       "0  Cliente Amazon  Samsung G935 Galaxy S7 Edge Smartphone da 32GB...  9.493131\n",
       "1  Cliente Amazon  Huawei P9 Lite Smartphone, LTE, Display 5.2'' ...  9.455965\n",
       "2  Cliente Amazon  Huawei P9 Lite Smartphone, LTE, Display 5.2'' ...  9.453551\n",
       "3  Cliente Amazon  Asus ZE551ML-2A760WW Smartphone ZenFone 2 Delu...  9.438117\n",
       "4  Cliente Amazon  Samsung J320 Galaxy J3 (2016) Dual SIM 5\", Qua...  9.282692"
      ]
     },
     "metadata": {},
     "output_type": "display_data"
    }
   ],
   "source": [
    "# Recommend\n",
    "result_svd_user1 = col_fil_svd_or.recommend_product(author_name='e-bit', n=5)\n",
    "result_svd_user2 = col_fil_svd_or.recommend_product(author_name='einem Kunden', n=5)\n",
    "result_svd_user3 = col_fil_svd_or.recommend_product(author_name='Cliente Amazon', n=5)"
   ]
  },
  {
   "cell_type": "markdown",
   "metadata": {},
   "source": [
    "As we observed previously since the data set we used for collaborative recommender is having a combination of conditions where users who have given > 50 ratings __'AND'__ products having > 50 ratings, for item to item recommendation we have very less recommendations. Satisfying both conditions means though products have more than 50 reviews since many of the users who have rated those products have not rated more than 50 products, we are missing those data."
   ]
  },
  {
   "cell_type": "markdown",
   "metadata": {},
   "source": [
    "Item-Item based using KNNwithmeans on dataset in which outliers are removed. Since we observed that both SVD and KNNwithmeans collaborative methods are giving similar results we will use KNNwithmeans approach for item-item based recoommender."
   ]
  },
  {
   "cell_type": "code",
   "execution_count": 296,
   "metadata": {},
   "outputs": [
    {
     "name": "stdout",
     "output_type": "stream",
     "text": [
      "{'rmse': 1.1016423190487263}\n",
      "{'rmse': {'k': 38, 'sim_options': {'name': 'pearson', 'min_support': 4, 'user_based': False}}}\n",
      "{'rmse': <surprise.prediction_algorithms.knns.KNNWithMeans object at 0x00000222BEEA4340>}\n"
     ]
    }
   ],
   "source": [
    "sim_options1 = {\n",
    "    \"name\": [\"msd\", \"cosine\", \"pearson\", \"pearson_baseline\"],\n",
    "    \"min_support\": [3, 4, 5],\n",
    "    \"user_based\": [False],\n",
    "}\n",
    "params = { 'k': range(30,50,1), 'sim_options': sim_options1}\n",
    "clf1_or = find_best_model1(KNNWithMeans, params, surprise_data)"
   ]
  },
  {
   "cell_type": "code",
   "execution_count": 297,
   "metadata": {},
   "outputs": [],
   "source": [
    "knnwithmeans1_or = clf1_or.best_estimator['rmse']\n",
    "col_fil_knnwithmeans1_or = collab_filtering_based_recommender1(knnwithmeans1_or, trainset_or, testset_or, surprise_data)"
   ]
  },
  {
   "cell_type": "code",
   "execution_count": 298,
   "metadata": {},
   "outputs": [
    {
     "data": {
      "text/markdown": [
       "<span style='color:blue'>**Fitting the train data...**</span>"
      ],
      "text/plain": [
       "<IPython.core.display.Markdown object>"
      ]
     },
     "metadata": {},
     "output_type": "display_data"
    },
    {
     "name": "stdout",
     "output_type": "stream",
     "text": [
      "Computing the pearson similarity matrix...\n",
      "Done computing similarity matrix.\n"
     ]
    },
    {
     "data": {
      "text/markdown": [
       "<span style='color:blue'>**Predicting the test data...**</span>"
      ],
      "text/plain": [
       "<IPython.core.display.Markdown object>"
      ]
     },
     "metadata": {},
     "output_type": "display_data"
    },
    {
     "name": "stdout",
     "output_type": "stream",
     "text": [
      "RMSE: 1.1287\n"
     ]
    },
    {
     "data": {
      "text/markdown": [
       "<span style='color:blue'>**RMSE for the predicted result is 1.129**</span>"
      ],
      "text/plain": [
       "<IPython.core.display.Markdown object>"
      ]
     },
     "metadata": {},
     "output_type": "display_data"
    }
   ],
   "source": [
    "knnwithmeans_rmse1_or = col_fil_knnwithmeans1_or.fit_and_predict_user()"
   ]
  },
  {
   "cell_type": "code",
   "execution_count": 299,
   "metadata": {},
   "outputs": [
    {
     "data": {
      "text/markdown": [
       "<span style='color:blue'>**Cross Validating the data...**</span>"
      ],
      "text/plain": [
       "<IPython.core.display.Markdown object>"
      ]
     },
     "metadata": {},
     "output_type": "display_data"
    },
    {
     "data": {
      "text/markdown": [
       "<span style='color:blue'>**Mean CV RMSE is 1.1**</span>"
      ],
      "text/plain": [
       "<IPython.core.display.Markdown object>"
      ]
     },
     "metadata": {},
     "output_type": "display_data"
    }
   ],
   "source": [
    "knnwithmeans_cv_rmse1_or = col_fil_knnwithmeans1_or.cross_validate1()"
   ]
  },
  {
   "cell_type": "markdown",
   "metadata": {},
   "source": [
    "Similar to user-user based collaborative recommender we can observe that RMSE has improved from 1.8 to 1.1 after removing outliers. RMSE close to 1 will comparitively give good predictions."
   ]
  },
  {
   "cell_type": "code",
   "execution_count": 300,
   "metadata": {},
   "outputs": [
    {
     "data": {
      "text/markdown": [
       "<span style='color:blue'>**Recommending top users for product Apple iPhone 7 4,7\" 32 GB :**</span>"
      ],
      "text/plain": [
       "<IPython.core.display.Markdown object>"
      ]
     },
     "metadata": {},
     "output_type": "display_data"
    },
    {
     "data": {
      "text/html": [
       "<div>\n",
       "<style scoped>\n",
       "    .dataframe tbody tr th:only-of-type {\n",
       "        vertical-align: middle;\n",
       "    }\n",
       "\n",
       "    .dataframe tbody tr th {\n",
       "        vertical-align: top;\n",
       "    }\n",
       "\n",
       "    .dataframe thead th {\n",
       "        text-align: right;\n",
       "    }\n",
       "</style>\n",
       "<table border=\"1\" class=\"dataframe\">\n",
       "  <thead>\n",
       "    <tr style=\"text-align: right;\">\n",
       "      <th></th>\n",
       "      <th>author</th>\n",
       "      <th>product</th>\n",
       "      <th>score</th>\n",
       "    </tr>\n",
       "  </thead>\n",
       "  <tbody>\n",
       "    <tr>\n",
       "      <th>0</th>\n",
       "      <td>einer Kundin</td>\n",
       "      <td>Apple iPhone 7 4,7\" 32 GB</td>\n",
       "      <td>9.947368</td>\n",
       "    </tr>\n",
       "    <tr>\n",
       "      <th>1</th>\n",
       "      <td>einem Kunden</td>\n",
       "      <td>Apple iPhone 7 4,7\" 32 GB</td>\n",
       "      <td>9.736842</td>\n",
       "    </tr>\n",
       "  </tbody>\n",
       "</table>\n",
       "</div>"
      ],
      "text/plain": [
       "         author                    product     score\n",
       "0  einer Kundin  Apple iPhone 7 4,7\" 32 GB  9.947368\n",
       "1  einem Kunden  Apple iPhone 7 4,7\" 32 GB  9.736842"
      ]
     },
     "metadata": {},
     "output_type": "display_data"
    },
    {
     "data": {
      "text/markdown": [
       "<span style='color:blue'>**Recommending top users for product Smartphone Samsung Galaxy Gran Prime TV SM-G530 :**</span>"
      ],
      "text/plain": [
       "<IPython.core.display.Markdown object>"
      ]
     },
     "metadata": {},
     "output_type": "display_data"
    },
    {
     "data": {
      "text/html": [
       "<div>\n",
       "<style scoped>\n",
       "    .dataframe tbody tr th:only-of-type {\n",
       "        vertical-align: middle;\n",
       "    }\n",
       "\n",
       "    .dataframe tbody tr th {\n",
       "        vertical-align: top;\n",
       "    }\n",
       "\n",
       "    .dataframe thead th {\n",
       "        text-align: right;\n",
       "    }\n",
       "</style>\n",
       "<table border=\"1\" class=\"dataframe\">\n",
       "  <thead>\n",
       "    <tr style=\"text-align: right;\">\n",
       "      <th></th>\n",
       "      <th>author</th>\n",
       "      <th>product</th>\n",
       "      <th>score</th>\n",
       "    </tr>\n",
       "  </thead>\n",
       "  <tbody>\n",
       "    <tr>\n",
       "      <th>0</th>\n",
       "      <td>e-bit</td>\n",
       "      <td>Smartphone Samsung Galaxy Gran Prime TV SM-G530</td>\n",
       "      <td>9.210526</td>\n",
       "    </tr>\n",
       "  </tbody>\n",
       "</table>\n",
       "</div>"
      ],
      "text/plain": [
       "  author                                          product     score\n",
       "0  e-bit  Smartphone Samsung Galaxy Gran Prime TV SM-G530  9.210526"
      ]
     },
     "metadata": {},
     "output_type": "display_data"
    },
    {
     "data": {
      "text/markdown": [
       "<span style='color:blue'>**Recommending top users for product Apple iPhone 6s 4,7\" 128 GB :**</span>"
      ],
      "text/plain": [
       "<IPython.core.display.Markdown object>"
      ]
     },
     "metadata": {},
     "output_type": "display_data"
    },
    {
     "data": {
      "text/html": [
       "<div>\n",
       "<style scoped>\n",
       "    .dataframe tbody tr th:only-of-type {\n",
       "        vertical-align: middle;\n",
       "    }\n",
       "\n",
       "    .dataframe tbody tr th {\n",
       "        vertical-align: top;\n",
       "    }\n",
       "\n",
       "    .dataframe thead th {\n",
       "        text-align: right;\n",
       "    }\n",
       "</style>\n",
       "<table border=\"1\" class=\"dataframe\">\n",
       "  <thead>\n",
       "    <tr style=\"text-align: right;\">\n",
       "      <th></th>\n",
       "      <th>author</th>\n",
       "      <th>product</th>\n",
       "      <th>score</th>\n",
       "    </tr>\n",
       "  </thead>\n",
       "  <tbody>\n",
       "    <tr>\n",
       "      <th>0</th>\n",
       "      <td>einem Kunden</td>\n",
       "      <td>Apple iPhone 6s 4,7\" 128 GB</td>\n",
       "      <td>9.947368</td>\n",
       "    </tr>\n",
       "    <tr>\n",
       "      <th>1</th>\n",
       "      <td>einer Kundin</td>\n",
       "      <td>Apple iPhone 6s 4,7\" 128 GB</td>\n",
       "      <td>9.842105</td>\n",
       "    </tr>\n",
       "  </tbody>\n",
       "</table>\n",
       "</div>"
      ],
      "text/plain": [
       "         author                      product     score\n",
       "0  einem Kunden  Apple iPhone 6s 4,7\" 128 GB  9.947368\n",
       "1  einer Kundin  Apple iPhone 6s 4,7\" 128 GB  9.842105"
      ]
     },
     "metadata": {},
     "output_type": "display_data"
    }
   ],
   "source": [
    "result_knn_user1 = col_fil_knnwithmeans1_or.recommend_user(prod_name='Apple iPhone 7 4,7\" 32 GB', n=5)\n",
    "result_knn_user2 = col_fil_knnwithmeans1_or.recommend_user(prod_name='Smartphone Samsung Galaxy Gran Prime TV SM-G530', n=5)\n",
    "result_knn_user3 = col_fil_knnwithmeans1_or.recommend_user(prod_name='Apple iPhone 6s 4,7\" 128 GB', n=5)"
   ]
  },
  {
   "cell_type": "markdown",
   "metadata": {},
   "source": [
    "Since we are not able to recommend more users for particular products, let's use a dataset in which products have > 50 reviews __'OR'__ users who have given > 50 reviews i.e., not all the users or products are having > 50 reviews."
   ]
  },
  {
   "cell_type": "code",
   "execution_count": 301,
   "metadata": {},
   "outputs": [
    {
     "data": {
      "text/plain": [
       "(684946, 7)"
      ]
     },
     "execution_count": 301,
     "metadata": {},
     "output_type": "execute_result"
    }
   ],
   "source": [
    "df_tst1 = df_samp.groupby([\"product\"]).filter(lambda x:x['score'].count() >=50)\n",
    "df_tst2 = df_samp.groupby([\"author\"]).filter(lambda x:x['score'].count() >=50)\n",
    "df_tst = pd.concat([df_tst1,df_tst2], axis=0)\n",
    "df_tst = df_tst.reset_index(drop=True)\n",
    "df_tst.shape"
   ]
  },
  {
   "cell_type": "code",
   "execution_count": 302,
   "metadata": {},
   "outputs": [
    {
     "data": {
      "text/plain": [
       "(584538, 7)"
      ]
     },
     "execution_count": 302,
     "metadata": {},
     "output_type": "execute_result"
    }
   ],
   "source": [
    "df_tst = df_tst.drop_duplicates(subset=['author', 'product', 'score'], keep='first', inplace=False, ignore_index=False)\n",
    "df_tst.shape"
   ]
  },
  {
   "cell_type": "code",
   "execution_count": 303,
   "metadata": {},
   "outputs": [
    {
     "name": "stdout",
     "output_type": "stream",
     "text": [
      "Shape of data file after sampling is: (25000, 7)\n"
     ]
    }
   ],
   "source": [
    "# Sampling data to keep only 25000 rows \n",
    "df_tst = df_tst.sample(n=25000, random_state=100)\n",
    "print('Shape of data file after sampling is: {}'.format(df_tst.shape))"
   ]
  },
  {
   "cell_type": "code",
   "execution_count": 304,
   "metadata": {},
   "outputs": [],
   "source": [
    "# Lets remove outliers for better results\n",
    "for x in ['score']:\n",
    "    q75,q25 = np.percentile(df_tst.loc[:,x],[75,25])\n",
    "    intr_qr = q75-q25\n",
    " \n",
    "    max = q75+(1.5*intr_qr)\n",
    "    min = q25-(1.5*intr_qr)\n",
    " \n",
    "    df_tst.loc[df_tst[x] < min,x] = np.nan\n",
    "    df_tst.loc[df_tst[x] > max,x] = np.nan"
   ]
  },
  {
   "cell_type": "code",
   "execution_count": 305,
   "metadata": {},
   "outputs": [],
   "source": [
    "null_col1 = ['score']\n",
    "\n",
    "#Technique 2: Using median to impute the missing values\n",
    "for i in null_col1:\n",
    " df_tst.loc[df_tst.loc[:,i].isnull(),i]=df_tst.loc[:,i].median()\n",
    "\n",
    "# print(\"Count of NULL values after imputation\\n\")\n",
    "# df_tst.isnull().sum()"
   ]
  },
  {
   "cell_type": "code",
   "execution_count": 306,
   "metadata": {},
   "outputs": [],
   "source": [
    "# plt.figure(figsize= (10,5));\n",
    "\n",
    "# # plt.subplot(1,1,1);\n",
    "# sns.boxplot(df_tst['score'],orient='v');"
   ]
  },
  {
   "cell_type": "code",
   "execution_count": 307,
   "metadata": {},
   "outputs": [],
   "source": [
    "# Let's keep only auhtor, product and score columns in our dataset.\n",
    "df_tst_3col = df_tst.filter(['author','product','score'])\n",
    "# df_tst_3col.head()"
   ]
  },
  {
   "cell_type": "code",
   "execution_count": 308,
   "metadata": {},
   "outputs": [],
   "source": [
    "surprise_tst = Dataset.load_from_df(df_tst_3col, reader)\n",
    "\n",
    "# Split the data into train and test\n",
    "trainset_tst, testset_tst = train_test_split(surprise_tst, test_size=0.3, random_state=10)"
   ]
  },
  {
   "cell_type": "code",
   "execution_count": 311,
   "metadata": {},
   "outputs": [
    {
     "name": "stdout",
     "output_type": "stream",
     "text": [
      "{'rmse': 1.319062183235066}\n",
      "{'rmse': {'k': 48, 'sim_options': {'name': 'cosine', 'min_support': 3, 'user_based': False}}}\n",
      "{'rmse': <surprise.prediction_algorithms.knns.KNNWithMeans object at 0x00000222EA0FEA60>}\n"
     ]
    }
   ],
   "source": [
    "sim_options_tst = {\n",
    "    \"name\": [\"msd\", \"cosine\", \"pearson\", \"pearson_baseline\"],\n",
    "    \"min_support\": [3, 4, 5],\n",
    "    \"user_based\": [False],\n",
    "}\n",
    "params = { 'k': range(30,50,1), 'sim_options': sim_options_tst}\n",
    "clf1_tst = find_best_model1(KNNWithMeans, params, surprise_tst)"
   ]
  },
  {
   "cell_type": "code",
   "execution_count": 312,
   "metadata": {},
   "outputs": [],
   "source": [
    "knnwithmeans1_tst = clf1_tst.best_estimator['rmse']\n",
    "col_fil_knnwithmeans1_tst = collab_filtering_based_recommender1(knnwithmeans1_tst, trainset_tst, testset_tst, surprise_tst)"
   ]
  },
  {
   "cell_type": "code",
   "execution_count": 313,
   "metadata": {},
   "outputs": [
    {
     "data": {
      "text/markdown": [
       "<span style='color:blue'>**Fitting the train data...**</span>"
      ],
      "text/plain": [
       "<IPython.core.display.Markdown object>"
      ]
     },
     "metadata": {},
     "output_type": "display_data"
    },
    {
     "name": "stdout",
     "output_type": "stream",
     "text": [
      "Computing the cosine similarity matrix...\n",
      "Done computing similarity matrix.\n"
     ]
    },
    {
     "data": {
      "text/markdown": [
       "<span style='color:blue'>**Predicting the test data...**</span>"
      ],
      "text/plain": [
       "<IPython.core.display.Markdown object>"
      ]
     },
     "metadata": {},
     "output_type": "display_data"
    },
    {
     "name": "stdout",
     "output_type": "stream",
     "text": [
      "RMSE: 1.3306\n"
     ]
    },
    {
     "data": {
      "text/markdown": [
       "<span style='color:blue'>**RMSE for the predicted result is 1.331**</span>"
      ],
      "text/plain": [
       "<IPython.core.display.Markdown object>"
      ]
     },
     "metadata": {},
     "output_type": "display_data"
    }
   ],
   "source": [
    "knnwithmeans_rmse1_tst = col_fil_knnwithmeans1_tst.fit_and_predict_user()"
   ]
  },
  {
   "cell_type": "code",
   "execution_count": 314,
   "metadata": {},
   "outputs": [
    {
     "data": {
      "text/markdown": [
       "<span style='color:blue'>**Cross Validating the data...**</span>"
      ],
      "text/plain": [
       "<IPython.core.display.Markdown object>"
      ]
     },
     "metadata": {},
     "output_type": "display_data"
    },
    {
     "data": {
      "text/markdown": [
       "<span style='color:blue'>**Mean CV RMSE is 1.321**</span>"
      ],
      "text/plain": [
       "<IPython.core.display.Markdown object>"
      ]
     },
     "metadata": {},
     "output_type": "display_data"
    }
   ],
   "source": [
    "knnwithmeans_cv_rmse1_tst = col_fil_knnwithmeans1_tst.cross_validate1()"
   ]
  },
  {
   "cell_type": "code",
   "execution_count": 315,
   "metadata": {},
   "outputs": [
    {
     "data": {
      "text/markdown": [
       "<span style='color:blue'>**Recommending top users for product OnePlus 3 (Graphite, 64 GB) :**</span>"
      ],
      "text/plain": [
       "<IPython.core.display.Markdown object>"
      ]
     },
     "metadata": {},
     "output_type": "display_data"
    },
    {
     "data": {
      "text/html": [
       "<div>\n",
       "<style scoped>\n",
       "    .dataframe tbody tr th:only-of-type {\n",
       "        vertical-align: middle;\n",
       "    }\n",
       "\n",
       "    .dataframe tbody tr th {\n",
       "        vertical-align: top;\n",
       "    }\n",
       "\n",
       "    .dataframe thead th {\n",
       "        text-align: right;\n",
       "    }\n",
       "</style>\n",
       "<table border=\"1\" class=\"dataframe\">\n",
       "  <thead>\n",
       "    <tr style=\"text-align: right;\">\n",
       "      <th></th>\n",
       "      <th>author</th>\n",
       "      <th>product</th>\n",
       "      <th>score</th>\n",
       "    </tr>\n",
       "  </thead>\n",
       "  <tbody>\n",
       "    <tr>\n",
       "      <th>0</th>\n",
       "      <td>Karthikeyan</td>\n",
       "      <td>OnePlus 3 (Graphite, 64 GB)</td>\n",
       "      <td>9.551020</td>\n",
       "    </tr>\n",
       "    <tr>\n",
       "      <th>1</th>\n",
       "      <td>Vishal Mhatre</td>\n",
       "      <td>OnePlus 3 (Graphite, 64 GB)</td>\n",
       "      <td>9.116057</td>\n",
       "    </tr>\n",
       "    <tr>\n",
       "      <th>2</th>\n",
       "      <td>Sumit Sharma</td>\n",
       "      <td>OnePlus 3 (Graphite, 64 GB)</td>\n",
       "      <td>9.116057</td>\n",
       "    </tr>\n",
       "    <tr>\n",
       "      <th>3</th>\n",
       "      <td>Amsarajan N</td>\n",
       "      <td>OnePlus 3 (Graphite, 64 GB)</td>\n",
       "      <td>9.116057</td>\n",
       "    </tr>\n",
       "    <tr>\n",
       "      <th>4</th>\n",
       "      <td>siva</td>\n",
       "      <td>OnePlus 3 (Graphite, 64 GB)</td>\n",
       "      <td>9.116057</td>\n",
       "    </tr>\n",
       "  </tbody>\n",
       "</table>\n",
       "</div>"
      ],
      "text/plain": [
       "          author                      product     score\n",
       "0    Karthikeyan  OnePlus 3 (Graphite, 64 GB)  9.551020\n",
       "1  Vishal Mhatre  OnePlus 3 (Graphite, 64 GB)  9.116057\n",
       "2   Sumit Sharma  OnePlus 3 (Graphite, 64 GB)  9.116057\n",
       "3    Amsarajan N  OnePlus 3 (Graphite, 64 GB)  9.116057\n",
       "4           siva  OnePlus 3 (Graphite, 64 GB)  9.116057"
      ]
     },
     "metadata": {},
     "output_type": "display_data"
    },
    {
     "data": {
      "text/markdown": [
       "<span style='color:blue'>**Recommending top users for product Smartphone Samsung Galaxy Gran Prime TV SM-G530 :**</span>"
      ],
      "text/plain": [
       "<IPython.core.display.Markdown object>"
      ]
     },
     "metadata": {},
     "output_type": "display_data"
    },
    {
     "data": {
      "text/html": [
       "<div>\n",
       "<style scoped>\n",
       "    .dataframe tbody tr th:only-of-type {\n",
       "        vertical-align: middle;\n",
       "    }\n",
       "\n",
       "    .dataframe tbody tr th {\n",
       "        vertical-align: top;\n",
       "    }\n",
       "\n",
       "    .dataframe thead th {\n",
       "        text-align: right;\n",
       "    }\n",
       "</style>\n",
       "<table border=\"1\" class=\"dataframe\">\n",
       "  <thead>\n",
       "    <tr style=\"text-align: right;\">\n",
       "      <th></th>\n",
       "      <th>author</th>\n",
       "      <th>product</th>\n",
       "      <th>score</th>\n",
       "    </tr>\n",
       "  </thead>\n",
       "  <tbody>\n",
       "    <tr>\n",
       "      <th>0</th>\n",
       "      <td>juliano amigo cor...</td>\n",
       "      <td>Smartphone Samsung Galaxy Gran Prime TV SM-G530</td>\n",
       "      <td>9.116057</td>\n",
       "    </tr>\n",
       "    <tr>\n",
       "      <th>1</th>\n",
       "      <td>giz??lia</td>\n",
       "      <td>Smartphone Samsung Galaxy Gran Prime TV SM-G530</td>\n",
       "      <td>9.116057</td>\n",
       "    </tr>\n",
       "    <tr>\n",
       "      <th>2</th>\n",
       "      <td>bruno moura</td>\n",
       "      <td>Smartphone Samsung Galaxy Gran Prime TV SM-G530</td>\n",
       "      <td>9.116057</td>\n",
       "    </tr>\n",
       "    <tr>\n",
       "      <th>3</th>\n",
       "      <td>carol madeiro</td>\n",
       "      <td>Smartphone Samsung Galaxy Gran Prime TV SM-G530</td>\n",
       "      <td>9.116057</td>\n",
       "    </tr>\n",
       "    <tr>\n",
       "      <th>4</th>\n",
       "      <td>rayan</td>\n",
       "      <td>Smartphone Samsung Galaxy Gran Prime TV SM-G530</td>\n",
       "      <td>9.116057</td>\n",
       "    </tr>\n",
       "  </tbody>\n",
       "</table>\n",
       "</div>"
      ],
      "text/plain": [
       "                 author                                          product  \\\n",
       "0  juliano amigo cor...  Smartphone Samsung Galaxy Gran Prime TV SM-G530   \n",
       "1              giz??lia  Smartphone Samsung Galaxy Gran Prime TV SM-G530   \n",
       "2           bruno moura  Smartphone Samsung Galaxy Gran Prime TV SM-G530   \n",
       "3         carol madeiro  Smartphone Samsung Galaxy Gran Prime TV SM-G530   \n",
       "4                 rayan  Smartphone Samsung Galaxy Gran Prime TV SM-G530   \n",
       "\n",
       "      score  \n",
       "0  9.116057  \n",
       "1  9.116057  \n",
       "2  9.116057  \n",
       "3  9.116057  \n",
       "4  9.116057  "
      ]
     },
     "metadata": {},
     "output_type": "display_data"
    },
    {
     "data": {
      "text/markdown": [
       "<span style='color:blue'>**Recommending top users for product Motorola Moto G, 4th Gen (Black, 2 GB, 16 GB) :**</span>"
      ],
      "text/plain": [
       "<IPython.core.display.Markdown object>"
      ]
     },
     "metadata": {},
     "output_type": "display_data"
    },
    {
     "data": {
      "text/html": [
       "<div>\n",
       "<style scoped>\n",
       "    .dataframe tbody tr th:only-of-type {\n",
       "        vertical-align: middle;\n",
       "    }\n",
       "\n",
       "    .dataframe tbody tr th {\n",
       "        vertical-align: top;\n",
       "    }\n",
       "\n",
       "    .dataframe thead th {\n",
       "        text-align: right;\n",
       "    }\n",
       "</style>\n",
       "<table border=\"1\" class=\"dataframe\">\n",
       "  <thead>\n",
       "    <tr style=\"text-align: right;\">\n",
       "      <th></th>\n",
       "      <th>author</th>\n",
       "      <th>product</th>\n",
       "      <th>score</th>\n",
       "    </tr>\n",
       "  </thead>\n",
       "  <tbody>\n",
       "    <tr>\n",
       "      <th>0</th>\n",
       "      <td>Anant</td>\n",
       "      <td>Motorola Moto G, 4th Gen (Black, 2 GB, 16 GB)</td>\n",
       "      <td>9.116057</td>\n",
       "    </tr>\n",
       "    <tr>\n",
       "      <th>1</th>\n",
       "      <td>prem</td>\n",
       "      <td>Motorola Moto G, 4th Gen (Black, 2 GB, 16 GB)</td>\n",
       "      <td>9.116057</td>\n",
       "    </tr>\n",
       "    <tr>\n",
       "      <th>2</th>\n",
       "      <td>Shailendra Kumar Yadav</td>\n",
       "      <td>Motorola Moto G, 4th Gen (Black, 2 GB, 16 GB)</td>\n",
       "      <td>9.116057</td>\n",
       "    </tr>\n",
       "    <tr>\n",
       "      <th>3</th>\n",
       "      <td>pratibha t.</td>\n",
       "      <td>Motorola Moto G, 4th Gen (Black, 2 GB, 16 GB)</td>\n",
       "      <td>9.116057</td>\n",
       "    </tr>\n",
       "    <tr>\n",
       "      <th>4</th>\n",
       "      <td>Koustove</td>\n",
       "      <td>Motorola Moto G, 4th Gen (Black, 2 GB, 16 GB)</td>\n",
       "      <td>9.116057</td>\n",
       "    </tr>\n",
       "  </tbody>\n",
       "</table>\n",
       "</div>"
      ],
      "text/plain": [
       "                   author                                        product  \\\n",
       "0                   Anant  Motorola Moto G, 4th Gen (Black, 2 GB, 16 GB)   \n",
       "1                    prem  Motorola Moto G, 4th Gen (Black, 2 GB, 16 GB)   \n",
       "2  Shailendra Kumar Yadav  Motorola Moto G, 4th Gen (Black, 2 GB, 16 GB)   \n",
       "3             pratibha t.  Motorola Moto G, 4th Gen (Black, 2 GB, 16 GB)   \n",
       "4                Koustove  Motorola Moto G, 4th Gen (Black, 2 GB, 16 GB)   \n",
       "\n",
       "      score  \n",
       "0  9.116057  \n",
       "1  9.116057  \n",
       "2  9.116057  \n",
       "3  9.116057  \n",
       "4  9.116057  "
      ]
     },
     "metadata": {},
     "output_type": "display_data"
    }
   ],
   "source": [
    "result_knn_user1 = col_fil_knnwithmeans1_tst.recommend_user(prod_name='OnePlus 3 (Graphite, 64 GB)', n=5)\n",
    "result_knn_user2 = col_fil_knnwithmeans1_tst.recommend_user(prod_name='Smartphone Samsung Galaxy Gran Prime TV SM-G530', n=5)\n",
    "result_knn_user3 = col_fil_knnwithmeans1_tst.recommend_user(prod_name='Motorola Moto G, 4th Gen (Black, 2 GB, 16 GB)', n=5)"
   ]
  },
  {
   "cell_type": "markdown",
   "metadata": {},
   "source": [
    "We can observe that mean RMSE has slightly increased for the new dataset used but we are able to give more recommendations for products. The users in the new dataset may or may not have given more than 50 reviews. We have already discussed why we have used this dataset above. Since the combination of conditions where users who have given > 50 ratings __'AND'__ products having > 50 ratings are giving very less recommendations of users for particular items."
   ]
  },
  {
   "cell_type": "markdown",
   "metadata": {},
   "source": [
    "Thus we have tried multiple approaches on datasets as well as models and acheived good recommendations and predictions with RMSE values being close to 1."
   ]
  },
  {
   "cell_type": "markdown",
   "metadata": {},
   "source": [
    "__Popularity-Based Recommendation System:__ It is a type of recommendation system which works on the principle of popularity and or anything which is in trend. These systems check about the product or movie which are in trend or are most popular among the users and directly recommend those.\n",
    "\n",
    "We use this type of recommendation engines in:\n",
    "- Google News: News filtered by trending and most popular news.\n",
    "- YouTube: Trending videos.\n",
    "\n",
    "Limitations:\n",
    "- Not personalized.\n",
    "- The system would recommend the same sort of products/movies which are solely based upon popularity to every other user."
   ]
  },
  {
   "cell_type": "markdown",
   "metadata": {},
   "source": [
    "__Collaborative Filtering based Recommendation Systems:__ It is considered to be one of the very smart recommender systems that work on the similarity between different users and also items that are widely used as an e-commerce website and also online movie websites. It checks about the taste of similar users and does recommendations. \n",
    "\n",
    "We use this type of recommendation engines in:\n",
    "- Amazon: To recommend products which are brought together.\n",
    "- Social Networks: To recommend new friends/connections.\n",
    "\n",
    "Limitations:\n",
    "- Cold start problem: Enough users required to find a match __*(Similar to the issue we faced in the above dataset for item-item recommendation)*__. To overcome such cold start problems, often hybrid approaches are made use of between CF and Content-based matching. \n",
    "- Scalability: Even if there are many users and many items that are to be recommended often, problems can arise of user and rating matrix to be sparse and will become challenging to find out about the users who have rated the same item.\n",
    "- Sparsity: The problem in recommending items to the user due to sparsity problems."
   ]
  },
  {
   "cell_type": "markdown",
   "metadata": {},
   "source": [
    "__Hybrid Recommendation systems:__ Most recommender systems now use a hybrid approach, combining collaborative filtering, content-based filtering, and other approaches . Hybrid approaches can be implemented in several ways: by making content-based and collaborative-based predictions separately and then combining them; by adding content-based capabilities to a collaborative-based approach (and vice versa); or by unifying the approaches into one model. These methods can also be used to overcome some of the common problems in recommender systems such as cold start and the sparsity problem, as well as the knowledge engineering bottleneck in knowledge-based approaches.\n",
    "\n",
    "Netflix is a good example of the use of hybrid recommender systems. The website makes recommendations by comparing the watching and searching habits of similar users (i.e., collaborative filtering) as well as by offering movies that share characteristics with films that a user has rated highly (content-based filtering).\n",
    "\n",
    "Some hybridization techniques include:\n",
    "\n",
    "Weighted: Combining the score of different recommendation components numerically.\n",
    "Switching: Choosing among recommendation components and applying the selected one.\n",
    "Mixed: Recommendations from different recommenders are presented together to give the recommendation.\n",
    "Feature Combination: Features derived from different knowledge sources are combined together and given to a single recommendation algorithm.\n",
    "Feature Augmentation: Computing a feature or set of features, which is then part of the input to the next technique.\n",
    "Cascade: Recommenders are given strict priority, with the lower priority ones breaking ties in the scoring of the higher ones.\n",
    "Meta-level: One recommendation technique is applied and produces some sort of model, which is then the input used by the next technique."
   ]
  }
 ],
 "metadata": {
  "kernelspec": {
   "display_name": "Python 3",
   "language": "python",
   "name": "python3"
  },
  "language_info": {
   "codemirror_mode": {
    "name": "ipython",
    "version": 3
   },
   "file_extension": ".py",
   "mimetype": "text/x-python",
   "name": "python",
   "nbconvert_exporter": "python",
   "pygments_lexer": "ipython3",
   "version": "3.8.3"
  }
 },
 "nbformat": 4,
 "nbformat_minor": 4
}
